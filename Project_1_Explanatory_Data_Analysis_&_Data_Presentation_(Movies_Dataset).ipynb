{
  "nbformat": 4,
  "nbformat_minor": 0,
  "metadata": {
    "kernelspec": {
      "display_name": "Python 3",
      "language": "python",
      "name": "python3"
    },
    "language_info": {
      "codemirror_mode": {
        "name": "ipython",
        "version": 3
      },
      "file_extension": ".py",
      "mimetype": "text/x-python",
      "name": "python",
      "nbconvert_exporter": "python",
      "pygments_lexer": "ipython3",
      "version": "3.7.4"
    },
    "colab": {
      "name": "Project 1: Explanatory Data Analysis & Data Presentation (Movies Dataset).ipynb",
      "provenance": [],
      "collapsed_sections": []
    }
  },
  "cells": [
    {
      "cell_type": "markdown",
      "metadata": {
        "id": "XCvDV6-K2N9q"
      },
      "source": [
        "# Project 1: Explanatory Data Analysis & Data Presentation (Movies Dataset)"
      ]
    },
    {
      "cell_type": "markdown",
      "metadata": {
        "id": "vwkXtoko2N9s"
      },
      "source": [
        "# Project Brief for Self-Coders"
      ]
    },
    {
      "cell_type": "markdown",
      "metadata": {
        "id": "RR8947Vo2N9s"
      },
      "source": [
        "Here you´ll have the opportunity to code major parts of Project 1 on your own. If you need any help or inspiration, have a look at the Videos or the Jupyter Notebook with the full code. <br> <br>\n",
        "Keep in mind that it´s all about __getting the right results/conclusions__. It´s not about finding the identical code. Things can be coded in many different ways. Even if you come to the same conclusions, it´s very unlikely that we have the very same code. "
      ]
    },
    {
      "cell_type": "markdown",
      "metadata": {
        "id": "X-pyBh7S2N9s"
      },
      "source": [
        "## Data Import and first Inspection"
      ]
    },
    {
      "cell_type": "markdown",
      "metadata": {
        "id": "kzA6b0r62N9t"
      },
      "source": [
        "1. __Import__ the movies dataset from the CSV file \"movies_complete.csv\". __Inspect__ the data."
      ]
    },
    {
      "cell_type": "code",
      "metadata": {
        "id": "Zmz3TtYC2XoA"
      },
      "source": [
        "import pandas as pd\n",
        "import numpy as np\n",
        "import matplotlib.pyplot as plt\n",
        "from IPython.display import HTML"
      ],
      "execution_count": null,
      "outputs": []
    },
    {
      "cell_type": "code",
      "metadata": {
        "colab": {
          "base_uri": "https://localhost:8080/"
        },
        "id": "Y6d1nyvh2pM_",
        "outputId": "a78fd4eb-f381-4f32-fd5e-5d7058b02599"
      },
      "source": [
        "from google.colab import drive\n",
        "drive.mount('/content/drive')\n",
        "movie_df = pd.read_csv('/content/drive/MyDrive/Colab Notebooks/Project 1/movies_complete.csv')"
      ],
      "execution_count": null,
      "outputs": [
        {
          "output_type": "stream",
          "text": [
            "Mounted at /content/drive\n"
          ],
          "name": "stdout"
        }
      ]
    },
    {
      "cell_type": "code",
      "metadata": {
        "id": "TnKMk8Av2pck",
        "colab": {
          "base_uri": "https://localhost:8080/",
          "height": 434
        },
        "outputId": "598e2060-c1b3-423d-977a-86f332489dc7"
      },
      "source": [
        "movie_df.head(3)"
      ],
      "execution_count": null,
      "outputs": [
        {
          "output_type": "execute_result",
          "data": {
            "text/html": [
              "<div>\n",
              "<style scoped>\n",
              "    .dataframe tbody tr th:only-of-type {\n",
              "        vertical-align: middle;\n",
              "    }\n",
              "\n",
              "    .dataframe tbody tr th {\n",
              "        vertical-align: top;\n",
              "    }\n",
              "\n",
              "    .dataframe thead th {\n",
              "        text-align: right;\n",
              "    }\n",
              "</style>\n",
              "<table border=\"1\" class=\"dataframe\">\n",
              "  <thead>\n",
              "    <tr style=\"text-align: right;\">\n",
              "      <th></th>\n",
              "      <th>id</th>\n",
              "      <th>title</th>\n",
              "      <th>tagline</th>\n",
              "      <th>release_date</th>\n",
              "      <th>genres</th>\n",
              "      <th>belongs_to_collection</th>\n",
              "      <th>original_language</th>\n",
              "      <th>budget_musd</th>\n",
              "      <th>revenue_musd</th>\n",
              "      <th>production_companies</th>\n",
              "      <th>production_countries</th>\n",
              "      <th>vote_count</th>\n",
              "      <th>vote_average</th>\n",
              "      <th>popularity</th>\n",
              "      <th>runtime</th>\n",
              "      <th>overview</th>\n",
              "      <th>spoken_languages</th>\n",
              "      <th>poster_path</th>\n",
              "      <th>cast</th>\n",
              "      <th>cast_size</th>\n",
              "      <th>crew_size</th>\n",
              "      <th>director</th>\n",
              "    </tr>\n",
              "  </thead>\n",
              "  <tbody>\n",
              "    <tr>\n",
              "      <th>0</th>\n",
              "      <td>862</td>\n",
              "      <td>Toy Story</td>\n",
              "      <td>NaN</td>\n",
              "      <td>1995-10-30</td>\n",
              "      <td>Animation|Comedy|Family</td>\n",
              "      <td>Toy Story Collection</td>\n",
              "      <td>en</td>\n",
              "      <td>30.0</td>\n",
              "      <td>373.554033</td>\n",
              "      <td>Pixar Animation Studios</td>\n",
              "      <td>United States of America</td>\n",
              "      <td>5415.0</td>\n",
              "      <td>7.7</td>\n",
              "      <td>21.946943</td>\n",
              "      <td>81.0</td>\n",
              "      <td>Led by Woody, Andy's toys live happily in his ...</td>\n",
              "      <td>English</td>\n",
              "      <td>&lt;img src='http://image.tmdb.org/t/p/w185//uXDf...</td>\n",
              "      <td>Tom Hanks|Tim Allen|Don Rickles|Jim Varney|Wal...</td>\n",
              "      <td>13</td>\n",
              "      <td>106</td>\n",
              "      <td>John Lasseter</td>\n",
              "    </tr>\n",
              "    <tr>\n",
              "      <th>1</th>\n",
              "      <td>8844</td>\n",
              "      <td>Jumanji</td>\n",
              "      <td>Roll the dice and unleash the excitement!</td>\n",
              "      <td>1995-12-15</td>\n",
              "      <td>Adventure|Fantasy|Family</td>\n",
              "      <td>NaN</td>\n",
              "      <td>en</td>\n",
              "      <td>65.0</td>\n",
              "      <td>262.797249</td>\n",
              "      <td>TriStar Pictures|Teitler Film|Interscope Commu...</td>\n",
              "      <td>United States of America</td>\n",
              "      <td>2413.0</td>\n",
              "      <td>6.9</td>\n",
              "      <td>17.015539</td>\n",
              "      <td>104.0</td>\n",
              "      <td>When siblings Judy and Peter discover an encha...</td>\n",
              "      <td>English|Français</td>\n",
              "      <td>&lt;img src='http://image.tmdb.org/t/p/w185//vgpX...</td>\n",
              "      <td>Robin Williams|Jonathan Hyde|Kirsten Dunst|Bra...</td>\n",
              "      <td>26</td>\n",
              "      <td>16</td>\n",
              "      <td>Joe Johnston</td>\n",
              "    </tr>\n",
              "    <tr>\n",
              "      <th>2</th>\n",
              "      <td>15602</td>\n",
              "      <td>Grumpier Old Men</td>\n",
              "      <td>Still Yelling. Still Fighting. Still Ready for...</td>\n",
              "      <td>1995-12-22</td>\n",
              "      <td>Romance|Comedy</td>\n",
              "      <td>Grumpy Old Men Collection</td>\n",
              "      <td>en</td>\n",
              "      <td>NaN</td>\n",
              "      <td>NaN</td>\n",
              "      <td>Warner Bros.|Lancaster Gate</td>\n",
              "      <td>United States of America</td>\n",
              "      <td>92.0</td>\n",
              "      <td>6.5</td>\n",
              "      <td>11.712900</td>\n",
              "      <td>101.0</td>\n",
              "      <td>A family wedding reignites the ancient feud be...</td>\n",
              "      <td>English</td>\n",
              "      <td>&lt;img src='http://image.tmdb.org/t/p/w185//1FSX...</td>\n",
              "      <td>Walter Matthau|Jack Lemmon|Ann-Margret|Sophia ...</td>\n",
              "      <td>7</td>\n",
              "      <td>4</td>\n",
              "      <td>Howard Deutch</td>\n",
              "    </tr>\n",
              "  </tbody>\n",
              "</table>\n",
              "</div>"
            ],
            "text/plain": [
              "      id             title  ... crew_size       director\n",
              "0    862         Toy Story  ...       106  John Lasseter\n",
              "1   8844           Jumanji  ...        16   Joe Johnston\n",
              "2  15602  Grumpier Old Men  ...         4  Howard Deutch\n",
              "\n",
              "[3 rows x 22 columns]"
            ]
          },
          "metadata": {
            "tags": []
          },
          "execution_count": 3
        }
      ]
    },
    {
      "cell_type": "markdown",
      "metadata": {
        "id": "2bj7owQC2N9t"
      },
      "source": [
        "__Some additional information on Features/Columns__:"
      ]
    },
    {
      "cell_type": "markdown",
      "metadata": {
        "id": "kW7DmEEp2N9t"
      },
      "source": [
        "* **id:** The ID of the movie (clear/unique identifier).\n",
        "* **title:** The Official Title of the movie.\n",
        "* **tagline:** The tagline of the movie.\n",
        "* **release_date:** Theatrical Release Date of the movie.\n",
        "* **genres:** Genres associated with the movie.\n",
        "* **belongs_to_collection:** Gives information on the movie series/franchise the particular film belongs to.\n",
        "* **original_language:** The language in which the movie was originally shot in.\n",
        "* **budget_musd:** The budget of the movie in million dollars.\n",
        "* **revenue_musd:** The total revenue of the movie in million dollars.\n",
        "* **production_companies:** Production companies involved with the making of the movie.\n",
        "* **production_countries:** Countries where the movie was shot/produced in.\n",
        "* **vote_count:** The number of votes by users, as counted by TMDB.\n",
        "* **vote_average:** The average rating of the movie.\n",
        "* **popularity:** The Popularity Score assigned by TMDB.\n",
        "* **runtime:** The runtime of the movie in minutes.\n",
        "* **overview:** A brief blurb of the movie.\n",
        "* **spoken_languages:** Spoken languages in the film.\n",
        "* **poster_path:** The URL of the poster image.\n",
        "* **cast:** (Main) Actors appearing in the movie.\n",
        "* **cast_size:** number of Actors appearing in the movie.\n",
        "* **director:** Director of the movie.\n",
        "* **crew_size:** Size of the film crew (incl. director, excl. actors)."
      ]
    },
    {
      "cell_type": "code",
      "metadata": {
        "id": "L6-moKYH2N9u"
      },
      "source": [
        "# movie_df['genres'] = movie_df['genres'].str.split('|')\n",
        "# movie_df['cast'] = movie_df['cast'].str.split('|')\n",
        "# movie_df['production_companies'] = movie_df['production_companies'].str.split('|')\n",
        "# movie_df['spoken_languages'] = movie_df['spoken_languages'].str.split('|')\n",
        "movie_df['release_date'] = pd.to_datetime(movie_df['release_date'])"
      ],
      "execution_count": null,
      "outputs": []
    },
    {
      "cell_type": "code",
      "metadata": {
        "id": "O4NdzaJeGLij"
      },
      "source": [
        "df_best = movie_df[[\"title\", \"poster_path\", \"budget_musd\", \"revenue_musd\",\n",
        "              \"vote_count\", \"vote_average\", \"popularity\"]].copy()\n",
        "\n",
        "df_best[\"profit\"] = df_best['revenue_musd']-df_best['budget_musd']\n",
        "df_best[\"roi\"] = df_best['revenue_musd']/df_best['budget_musd']\n",
        "df_best.columns = [\"Title\", \"Poster\", \"Budget\", \"Revenue\", \"Votes\", \"Average Rating\", \"Popularity\", \"Profit\", \"ROI\"]\n",
        "df_best.set_index(\"Title\", inplace=True)"
      ],
      "execution_count": null,
      "outputs": []
    },
    {
      "cell_type": "code",
      "metadata": {
        "colab": {
          "base_uri": "https://localhost:8080/",
          "height": 450
        },
        "id": "WAeDx-8hfIE2",
        "outputId": "f9395f89-eb2e-405c-9c85-82786167f429"
      },
      "source": [
        "df_best"
      ],
      "execution_count": null,
      "outputs": [
        {
          "output_type": "execute_result",
          "data": {
            "text/html": [
              "<div>\n",
              "<style scoped>\n",
              "    .dataframe tbody tr th:only-of-type {\n",
              "        vertical-align: middle;\n",
              "    }\n",
              "\n",
              "    .dataframe tbody tr th {\n",
              "        vertical-align: top;\n",
              "    }\n",
              "\n",
              "    .dataframe thead th {\n",
              "        text-align: right;\n",
              "    }\n",
              "</style>\n",
              "<table border=\"1\" class=\"dataframe\">\n",
              "  <thead>\n",
              "    <tr style=\"text-align: right;\">\n",
              "      <th></th>\n",
              "      <th>Poster</th>\n",
              "      <th>Budget</th>\n",
              "      <th>Revenue</th>\n",
              "      <th>Votes</th>\n",
              "      <th>Average Rating</th>\n",
              "      <th>Popularity</th>\n",
              "      <th>Profit</th>\n",
              "      <th>ROI</th>\n",
              "    </tr>\n",
              "    <tr>\n",
              "      <th>Title</th>\n",
              "      <th></th>\n",
              "      <th></th>\n",
              "      <th></th>\n",
              "      <th></th>\n",
              "      <th></th>\n",
              "      <th></th>\n",
              "      <th></th>\n",
              "      <th></th>\n",
              "    </tr>\n",
              "  </thead>\n",
              "  <tbody>\n",
              "    <tr>\n",
              "      <th>Toy Story</th>\n",
              "      <td>&lt;img src='http://image.tmdb.org/t/p/w185//uXDf...</td>\n",
              "      <td>30.0</td>\n",
              "      <td>373.554033</td>\n",
              "      <td>5415.0</td>\n",
              "      <td>7.7</td>\n",
              "      <td>21.946943</td>\n",
              "      <td>343.554033</td>\n",
              "      <td>12.451801</td>\n",
              "    </tr>\n",
              "    <tr>\n",
              "      <th>Jumanji</th>\n",
              "      <td>&lt;img src='http://image.tmdb.org/t/p/w185//vgpX...</td>\n",
              "      <td>65.0</td>\n",
              "      <td>262.797249</td>\n",
              "      <td>2413.0</td>\n",
              "      <td>6.9</td>\n",
              "      <td>17.015539</td>\n",
              "      <td>197.797249</td>\n",
              "      <td>4.043035</td>\n",
              "    </tr>\n",
              "    <tr>\n",
              "      <th>Grumpier Old Men</th>\n",
              "      <td>&lt;img src='http://image.tmdb.org/t/p/w185//1FSX...</td>\n",
              "      <td>NaN</td>\n",
              "      <td>NaN</td>\n",
              "      <td>92.0</td>\n",
              "      <td>6.5</td>\n",
              "      <td>11.712900</td>\n",
              "      <td>NaN</td>\n",
              "      <td>NaN</td>\n",
              "    </tr>\n",
              "    <tr>\n",
              "      <th>Waiting to Exhale</th>\n",
              "      <td>&lt;img src='http://image.tmdb.org/t/p/w185//4wjG...</td>\n",
              "      <td>16.0</td>\n",
              "      <td>81.452156</td>\n",
              "      <td>34.0</td>\n",
              "      <td>6.1</td>\n",
              "      <td>3.859495</td>\n",
              "      <td>65.452156</td>\n",
              "      <td>5.090760</td>\n",
              "    </tr>\n",
              "    <tr>\n",
              "      <th>Father of the Bride Part II</th>\n",
              "      <td>&lt;img src='http://image.tmdb.org/t/p/w185//lf9R...</td>\n",
              "      <td>NaN</td>\n",
              "      <td>76.578911</td>\n",
              "      <td>173.0</td>\n",
              "      <td>5.7</td>\n",
              "      <td>8.387519</td>\n",
              "      <td>NaN</td>\n",
              "      <td>NaN</td>\n",
              "    </tr>\n",
              "    <tr>\n",
              "      <th>...</th>\n",
              "      <td>...</td>\n",
              "      <td>...</td>\n",
              "      <td>...</td>\n",
              "      <td>...</td>\n",
              "      <td>...</td>\n",
              "      <td>...</td>\n",
              "      <td>...</td>\n",
              "      <td>...</td>\n",
              "    </tr>\n",
              "    <tr>\n",
              "      <th>Subdue</th>\n",
              "      <td>&lt;img src='http://image.tmdb.org/t/p/w185//pfC8...</td>\n",
              "      <td>NaN</td>\n",
              "      <td>NaN</td>\n",
              "      <td>1.0</td>\n",
              "      <td>4.0</td>\n",
              "      <td>0.072051</td>\n",
              "      <td>NaN</td>\n",
              "      <td>NaN</td>\n",
              "    </tr>\n",
              "    <tr>\n",
              "      <th>Century of Birthing</th>\n",
              "      <td>&lt;img src='http://image.tmdb.org/t/p/w185//xZkm...</td>\n",
              "      <td>NaN</td>\n",
              "      <td>NaN</td>\n",
              "      <td>3.0</td>\n",
              "      <td>9.0</td>\n",
              "      <td>0.178241</td>\n",
              "      <td>NaN</td>\n",
              "      <td>NaN</td>\n",
              "    </tr>\n",
              "    <tr>\n",
              "      <th>Betrayal</th>\n",
              "      <td>&lt;img src='http://image.tmdb.org/t/p/w185//eGga...</td>\n",
              "      <td>NaN</td>\n",
              "      <td>NaN</td>\n",
              "      <td>6.0</td>\n",
              "      <td>3.8</td>\n",
              "      <td>0.903007</td>\n",
              "      <td>NaN</td>\n",
              "      <td>NaN</td>\n",
              "    </tr>\n",
              "    <tr>\n",
              "      <th>Satan Triumphant</th>\n",
              "      <td>&lt;img src='http://image.tmdb.org/t/p/w185//aorB...</td>\n",
              "      <td>NaN</td>\n",
              "      <td>NaN</td>\n",
              "      <td>0.0</td>\n",
              "      <td>NaN</td>\n",
              "      <td>0.003503</td>\n",
              "      <td>NaN</td>\n",
              "      <td>NaN</td>\n",
              "    </tr>\n",
              "    <tr>\n",
              "      <th>Queerama</th>\n",
              "      <td>&lt;img src='http://image.tmdb.org/t/p/w185//oxFE...</td>\n",
              "      <td>NaN</td>\n",
              "      <td>NaN</td>\n",
              "      <td>0.0</td>\n",
              "      <td>NaN</td>\n",
              "      <td>0.163015</td>\n",
              "      <td>NaN</td>\n",
              "      <td>NaN</td>\n",
              "    </tr>\n",
              "  </tbody>\n",
              "</table>\n",
              "<p>44691 rows × 8 columns</p>\n",
              "</div>"
            ],
            "text/plain": [
              "                                                                        Poster  ...        ROI\n",
              "Title                                                                           ...           \n",
              "Toy Story                    <img src='http://image.tmdb.org/t/p/w185//uXDf...  ...  12.451801\n",
              "Jumanji                      <img src='http://image.tmdb.org/t/p/w185//vgpX...  ...   4.043035\n",
              "Grumpier Old Men             <img src='http://image.tmdb.org/t/p/w185//1FSX...  ...        NaN\n",
              "Waiting to Exhale            <img src='http://image.tmdb.org/t/p/w185//4wjG...  ...   5.090760\n",
              "Father of the Bride Part II  <img src='http://image.tmdb.org/t/p/w185//lf9R...  ...        NaN\n",
              "...                                                                        ...  ...        ...\n",
              "Subdue                       <img src='http://image.tmdb.org/t/p/w185//pfC8...  ...        NaN\n",
              "Century of Birthing          <img src='http://image.tmdb.org/t/p/w185//xZkm...  ...        NaN\n",
              "Betrayal                     <img src='http://image.tmdb.org/t/p/w185//eGga...  ...        NaN\n",
              "Satan Triumphant             <img src='http://image.tmdb.org/t/p/w185//aorB...  ...        NaN\n",
              "Queerama                     <img src='http://image.tmdb.org/t/p/w185//oxFE...  ...        NaN\n",
              "\n",
              "[44691 rows x 8 columns]"
            ]
          },
          "metadata": {
            "tags": []
          },
          "execution_count": 6
        }
      ]
    },
    {
      "cell_type": "markdown",
      "metadata": {
        "id": "H_keyw0h2N9u"
      },
      "source": [
        "## The best and the worst movies..."
      ]
    },
    {
      "cell_type": "markdown",
      "metadata": {
        "id": "SYp4SmYw2N9v"
      },
      "source": [
        "2. __Filter__ the Dataset and __find the best/worst n Movies__ with the"
      ]
    },
    {
      "cell_type": "markdown",
      "metadata": {
        "id": "h5A52ZKp2N9v"
      },
      "source": [
        "- Highest Revenue\n",
        "- Highest Budget\n",
        "- Highest Profit (=Revenue - Budget)\n",
        "- Lowest Profit (=Revenue - Budget)\n",
        "- Highest Return on Investment (=Revenue / Budget) (only movies with Budget >= 10) \n",
        "- Lowest Return on Investment (=Revenue / Budget) (only movies with Budget >= 10)\n",
        "- Highest number of Votes\n",
        "- Highest Rating (only movies with 10 or more Ratings)\n",
        "- Lowest Rating (only movies with 10 or more Ratings)\n",
        "- Highest Popularity"
      ]
    },
    {
      "cell_type": "markdown",
      "metadata": {
        "id": "_MTnCLXN2N9v"
      },
      "source": [
        "__Define__ an appropriate __user-defined function__ to reuse code."
      ]
    },
    {
      "cell_type": "code",
      "metadata": {
        "id": "atN5FCT5d9G_"
      },
      "source": [
        "def sortndisplay(by, n, ascending=False, min_budget=0, min_votes=0):\n",
        "  movie_df2 = df_best.loc[(df_best.Budget >= min_budget) & (df_best.Votes >= min_votes), [\"Poster\", by]].sort_values([by], ascending = ascending).head(n).copy()\n",
        "  return HTML(movie_df2.to_html(escape=False))"
      ],
      "execution_count": null,
      "outputs": []
    },
    {
      "cell_type": "markdown",
      "metadata": {
        "id": "TckSVxoB2N9w"
      },
      "source": [
        "__Movies Top 5 - Highest Revenue__"
      ]
    },
    {
      "cell_type": "code",
      "metadata": {
        "id": "6ZWK_jB72N9w",
        "colab": {
          "base_uri": "https://localhost:8080/",
          "height": 670
        },
        "outputId": "83e2f7cc-51c2-428b-c5b7-c1cc76a4addd"
      },
      "source": [
        "sortndisplay(\"Revenue\", 5, ascending=False)"
      ],
      "execution_count": null,
      "outputs": [
        {
          "output_type": "execute_result",
          "data": {
            "text/html": [
              "<table border=\"1\" class=\"dataframe\">\n",
              "  <thead>\n",
              "    <tr style=\"text-align: right;\">\n",
              "      <th></th>\n",
              "      <th>Poster</th>\n",
              "      <th>Revenue</th>\n",
              "    </tr>\n",
              "    <tr>\n",
              "      <th>Title</th>\n",
              "      <th></th>\n",
              "      <th></th>\n",
              "    </tr>\n",
              "  </thead>\n",
              "  <tbody>\n",
              "    <tr>\n",
              "      <th>Avatar</th>\n",
              "      <td><img src='http://image.tmdb.org/t/p/w185//btnl50ZDJDSCal2NLQIYWw0XxvH.jpg' style='height:100px;'></td>\n",
              "      <td>2787.965087</td>\n",
              "    </tr>\n",
              "    <tr>\n",
              "      <th>Star Wars: The Force Awakens</th>\n",
              "      <td><img src='http://image.tmdb.org/t/p/w185//9rd002JS49RwDW944fF1wjU8iTV.jpg' style='height:100px;'></td>\n",
              "      <td>2068.223624</td>\n",
              "    </tr>\n",
              "    <tr>\n",
              "      <th>Titanic</th>\n",
              "      <td><img src='http://image.tmdb.org/t/p/w185//9xjZS2rlVxm8SFx8kPC3aIGCOYQ.jpg' style='height:100px;'></td>\n",
              "      <td>1845.034188</td>\n",
              "    </tr>\n",
              "    <tr>\n",
              "      <th>The Avengers</th>\n",
              "      <td><img src='http://image.tmdb.org/t/p/w185//RYMX2wcKCBAr24UyPD7xwmjaTn.jpg' style='height:100px;'></td>\n",
              "      <td>1519.557910</td>\n",
              "    </tr>\n",
              "    <tr>\n",
              "      <th>Jurassic World</th>\n",
              "      <td><img src='http://image.tmdb.org/t/p/w185//rhr4y79GpxQF9IsfJItRXVaoGs4.jpg' style='height:100px;'></td>\n",
              "      <td>1513.528810</td>\n",
              "    </tr>\n",
              "  </tbody>\n",
              "</table>"
            ],
            "text/plain": [
              "<IPython.core.display.HTML object>"
            ]
          },
          "metadata": {
            "tags": []
          },
          "execution_count": 8
        }
      ]
    },
    {
      "cell_type": "markdown",
      "metadata": {
        "id": "FovIkJQw2N9w"
      },
      "source": [
        "__Movies Top 5 - Highest Budget__"
      ]
    },
    {
      "cell_type": "code",
      "metadata": {
        "id": "HhW60dRi2N9w",
        "colab": {
          "base_uri": "https://localhost:8080/",
          "height": 670
        },
        "outputId": "13c3f68e-0052-4ba2-fe9f-8bfacab14656"
      },
      "source": [
        "sortndisplay(\"Budget\", 5, ascending=False)"
      ],
      "execution_count": null,
      "outputs": [
        {
          "output_type": "execute_result",
          "data": {
            "text/html": [
              "<table border=\"1\" class=\"dataframe\">\n",
              "  <thead>\n",
              "    <tr style=\"text-align: right;\">\n",
              "      <th></th>\n",
              "      <th>Poster</th>\n",
              "      <th>Budget</th>\n",
              "    </tr>\n",
              "    <tr>\n",
              "      <th>Title</th>\n",
              "      <th></th>\n",
              "      <th></th>\n",
              "    </tr>\n",
              "  </thead>\n",
              "  <tbody>\n",
              "    <tr>\n",
              "      <th>Pirates of the Caribbean: On Stranger Tides</th>\n",
              "      <td><img src='http://image.tmdb.org/t/p/w185//keGfSvCmYj7CvdRx36OdVrAEibE.jpg' style='height:100px;'></td>\n",
              "      <td>380.0</td>\n",
              "    </tr>\n",
              "    <tr>\n",
              "      <th>Pirates of the Caribbean: At World's End</th>\n",
              "      <td><img src='http://image.tmdb.org/t/p/w185//oVh3REsCwJwmrTkZ9OkkeKiAE02.jpg' style='height:100px;'></td>\n",
              "      <td>300.0</td>\n",
              "    </tr>\n",
              "    <tr>\n",
              "      <th>Avengers: Age of Ultron</th>\n",
              "      <td><img src='http://image.tmdb.org/t/p/w185//4ssDuvEDkSArWEdyBl2X5EHvYKU.jpg' style='height:100px;'></td>\n",
              "      <td>280.0</td>\n",
              "    </tr>\n",
              "    <tr>\n",
              "      <th>Superman Returns</th>\n",
              "      <td><img src='http://image.tmdb.org/t/p/w185//6ZYOpyhFZrAQIe1BuhqVgzfAdGZ.jpg' style='height:100px;'></td>\n",
              "      <td>270.0</td>\n",
              "    </tr>\n",
              "    <tr>\n",
              "      <th>John Carter</th>\n",
              "      <td><img src='http://image.tmdb.org/t/p/w185//7GSSyUUgUEXm1rhmiPGSRuKoqnK.jpg' style='height:100px;'></td>\n",
              "      <td>260.0</td>\n",
              "    </tr>\n",
              "  </tbody>\n",
              "</table>"
            ],
            "text/plain": [
              "<IPython.core.display.HTML object>"
            ]
          },
          "metadata": {
            "tags": []
          },
          "execution_count": 9
        }
      ]
    },
    {
      "cell_type": "markdown",
      "metadata": {
        "id": "-3n4zkzB2N9w"
      },
      "source": [
        "__Movies Top 5 - Highest Profit__"
      ]
    },
    {
      "cell_type": "code",
      "metadata": {
        "id": "n9dNNHm12N9x",
        "colab": {
          "base_uri": "https://localhost:8080/",
          "height": 670
        },
        "outputId": "96916c98-f1dd-402b-e3f3-8b8e20134532"
      },
      "source": [
        "sortndisplay(\"Profit\", 5, ascending=False)"
      ],
      "execution_count": null,
      "outputs": [
        {
          "output_type": "execute_result",
          "data": {
            "text/html": [
              "<table border=\"1\" class=\"dataframe\">\n",
              "  <thead>\n",
              "    <tr style=\"text-align: right;\">\n",
              "      <th></th>\n",
              "      <th>Poster</th>\n",
              "      <th>Profit</th>\n",
              "    </tr>\n",
              "    <tr>\n",
              "      <th>Title</th>\n",
              "      <th></th>\n",
              "      <th></th>\n",
              "    </tr>\n",
              "  </thead>\n",
              "  <tbody>\n",
              "    <tr>\n",
              "      <th>Avatar</th>\n",
              "      <td><img src='http://image.tmdb.org/t/p/w185//btnl50ZDJDSCal2NLQIYWw0XxvH.jpg' style='height:100px;'></td>\n",
              "      <td>2550.965087</td>\n",
              "    </tr>\n",
              "    <tr>\n",
              "      <th>Star Wars: The Force Awakens</th>\n",
              "      <td><img src='http://image.tmdb.org/t/p/w185//9rd002JS49RwDW944fF1wjU8iTV.jpg' style='height:100px;'></td>\n",
              "      <td>1823.223624</td>\n",
              "    </tr>\n",
              "    <tr>\n",
              "      <th>Titanic</th>\n",
              "      <td><img src='http://image.tmdb.org/t/p/w185//9xjZS2rlVxm8SFx8kPC3aIGCOYQ.jpg' style='height:100px;'></td>\n",
              "      <td>1645.034188</td>\n",
              "    </tr>\n",
              "    <tr>\n",
              "      <th>Jurassic World</th>\n",
              "      <td><img src='http://image.tmdb.org/t/p/w185//rhr4y79GpxQF9IsfJItRXVaoGs4.jpg' style='height:100px;'></td>\n",
              "      <td>1363.528810</td>\n",
              "    </tr>\n",
              "    <tr>\n",
              "      <th>Furious 7</th>\n",
              "      <td><img src='http://image.tmdb.org/t/p/w185//d9jZ2bKZw3ptTuxAyVHA6olPAVs.jpg' style='height:100px;'></td>\n",
              "      <td>1316.249360</td>\n",
              "    </tr>\n",
              "  </tbody>\n",
              "</table>"
            ],
            "text/plain": [
              "<IPython.core.display.HTML object>"
            ]
          },
          "metadata": {
            "tags": []
          },
          "execution_count": 10
        }
      ]
    },
    {
      "cell_type": "markdown",
      "metadata": {
        "id": "hjnMo-xw2N9x"
      },
      "source": [
        "__Movies Top 5 - Lowest Profit__"
      ]
    },
    {
      "cell_type": "code",
      "metadata": {
        "scrolled": false,
        "id": "r0xEroM92N9x",
        "colab": {
          "base_uri": "https://localhost:8080/",
          "height": 670
        },
        "outputId": "3d3e18d4-fa3b-4760-f02e-004aa0b5b3cd"
      },
      "source": [
        "sortndisplay(\"Profit\", 5, ascending=True)"
      ],
      "execution_count": null,
      "outputs": [
        {
          "output_type": "execute_result",
          "data": {
            "text/html": [
              "<table border=\"1\" class=\"dataframe\">\n",
              "  <thead>\n",
              "    <tr style=\"text-align: right;\">\n",
              "      <th></th>\n",
              "      <th>Poster</th>\n",
              "      <th>Profit</th>\n",
              "    </tr>\n",
              "    <tr>\n",
              "      <th>Title</th>\n",
              "      <th></th>\n",
              "      <th></th>\n",
              "    </tr>\n",
              "  </thead>\n",
              "  <tbody>\n",
              "    <tr>\n",
              "      <th>The Lone Ranger</th>\n",
              "      <td><img src='http://image.tmdb.org/t/p/w185//b2je2ZybNIzAOL1K1WPbbT6zt2M.jpg' style='height:100px;'></td>\n",
              "      <td>-165.710090</td>\n",
              "    </tr>\n",
              "    <tr>\n",
              "      <th>The Alamo</th>\n",
              "      <td><img src='http://image.tmdb.org/t/p/w185//aZrWYkxCCwSPKp4VjVvn46uHbIX.jpg' style='height:100px;'></td>\n",
              "      <td>-119.180039</td>\n",
              "    </tr>\n",
              "    <tr>\n",
              "      <th>Mars Needs Moms</th>\n",
              "      <td><img src='http://image.tmdb.org/t/p/w185//lOKqLd0ud1wdwaPK5h6bGNZIVLT.jpg' style='height:100px;'></td>\n",
              "      <td>-111.007242</td>\n",
              "    </tr>\n",
              "    <tr>\n",
              "      <th>Valerian and the City of a Thousand Planets</th>\n",
              "      <td><img src='http://image.tmdb.org/t/p/w185//jfIpMh79fGRqYJ6PwZLCntzgxlF.jpg' style='height:100px;'></td>\n",
              "      <td>-107.447384</td>\n",
              "    </tr>\n",
              "    <tr>\n",
              "      <th>The 13th Warrior</th>\n",
              "      <td><img src='http://image.tmdb.org/t/p/w185//7pyhR5K1iv67daYw0DfsmsersKA.jpg' style='height:100px;'></td>\n",
              "      <td>-98.301101</td>\n",
              "    </tr>\n",
              "  </tbody>\n",
              "</table>"
            ],
            "text/plain": [
              "<IPython.core.display.HTML object>"
            ]
          },
          "metadata": {
            "tags": []
          },
          "execution_count": 11
        }
      ]
    },
    {
      "cell_type": "markdown",
      "metadata": {
        "id": "fHGY7ffH2N9x"
      },
      "source": [
        "__Movies Top 5 - Highest ROI__"
      ]
    },
    {
      "cell_type": "code",
      "metadata": {
        "scrolled": false,
        "id": "ypZnRqKZ2N9x",
        "colab": {
          "base_uri": "https://localhost:8080/",
          "height": 670
        },
        "outputId": "a57b8216-be03-4c60-9118-fd6592d42ece"
      },
      "source": [
        "sortndisplay(\"ROI\", 5, min_budget=10, ascending=False)"
      ],
      "execution_count": null,
      "outputs": [
        {
          "output_type": "execute_result",
          "data": {
            "text/html": [
              "<table border=\"1\" class=\"dataframe\">\n",
              "  <thead>\n",
              "    <tr style=\"text-align: right;\">\n",
              "      <th></th>\n",
              "      <th>Poster</th>\n",
              "      <th>ROI</th>\n",
              "    </tr>\n",
              "    <tr>\n",
              "      <th>Title</th>\n",
              "      <th></th>\n",
              "      <th></th>\n",
              "    </tr>\n",
              "  </thead>\n",
              "  <tbody>\n",
              "    <tr>\n",
              "      <th>E.T. the Extra-Terrestrial</th>\n",
              "      <td><img src='http://image.tmdb.org/t/p/w185//cBfkE3HSH1NOyy1ftxlPw2l3ukb.jpg' style='height:100px;'></td>\n",
              "      <td>75.520507</td>\n",
              "    </tr>\n",
              "    <tr>\n",
              "      <th>Star Wars</th>\n",
              "      <td><img src='http://image.tmdb.org/t/p/w185//6FfCtAuVAW8XJjZ7eWeLibRLWTw.jpg' style='height:100px;'></td>\n",
              "      <td>70.490728</td>\n",
              "    </tr>\n",
              "    <tr>\n",
              "      <th>Pretty Woman</th>\n",
              "      <td><img src='http://image.tmdb.org/t/p/w185//hMVMMy1yDUvdufpTl8J8KKNYaZX.jpg' style='height:100px;'></td>\n",
              "      <td>33.071429</td>\n",
              "    </tr>\n",
              "    <tr>\n",
              "      <th>The Intouchables</th>\n",
              "      <td><img src='http://image.tmdb.org/t/p/w185//w7WxNbb0mcWpwDMd3pJA7LQRfnt.jpg' style='height:100px;'></td>\n",
              "      <td>32.806221</td>\n",
              "    </tr>\n",
              "    <tr>\n",
              "      <th>The Empire Strikes Back</th>\n",
              "      <td><img src='http://image.tmdb.org/t/p/w185//7BuH8itoSrLExs2YZSsM01Qk2no.jpg' style='height:100px;'></td>\n",
              "      <td>29.911111</td>\n",
              "    </tr>\n",
              "  </tbody>\n",
              "</table>"
            ],
            "text/plain": [
              "<IPython.core.display.HTML object>"
            ]
          },
          "metadata": {
            "tags": []
          },
          "execution_count": 12
        }
      ]
    },
    {
      "cell_type": "markdown",
      "metadata": {
        "id": "g_z6h5lY2N9x"
      },
      "source": [
        "__Movies Top 5 - Lowest ROI__"
      ]
    },
    {
      "cell_type": "code",
      "metadata": {
        "id": "7Wcx_Syb2N9x",
        "colab": {
          "base_uri": "https://localhost:8080/",
          "height": 670
        },
        "outputId": "017d0f08-d2a4-4ebc-b634-6d09b9dd6fab"
      },
      "source": [
        "sortndisplay(\"ROI\", 5, min_budget=10, ascending=True)"
      ],
      "execution_count": null,
      "outputs": [
        {
          "output_type": "execute_result",
          "data": {
            "text/html": [
              "<table border=\"1\" class=\"dataframe\">\n",
              "  <thead>\n",
              "    <tr style=\"text-align: right;\">\n",
              "      <th></th>\n",
              "      <th>Poster</th>\n",
              "      <th>ROI</th>\n",
              "    </tr>\n",
              "    <tr>\n",
              "      <th>Title</th>\n",
              "      <th></th>\n",
              "      <th></th>\n",
              "    </tr>\n",
              "  </thead>\n",
              "  <tbody>\n",
              "    <tr>\n",
              "      <th>Chasing Liberty</th>\n",
              "      <td><img src='http://image.tmdb.org/t/p/w185//7qzvS9QKkiDcz1K8EY9Y6ZXkUeD.jpg' style='height:100px;'></td>\n",
              "      <td>5.217391e-07</td>\n",
              "    </tr>\n",
              "    <tr>\n",
              "      <th>The Cookout</th>\n",
              "      <td><img src='http://image.tmdb.org/t/p/w185//eUVEPES8KhnXbTG3G74UZfVQRb7.jpg' style='height:100px;'></td>\n",
              "      <td>7.500000e-07</td>\n",
              "    </tr>\n",
              "    <tr>\n",
              "      <th>Deadfall</th>\n",
              "      <td><img src='http://image.tmdb.org/t/p/w185//kgfvIzCG9PYjYfEtcIPuJpGiY9m.jpg' style='height:100px;'></td>\n",
              "      <td>1.800000e-06</td>\n",
              "    </tr>\n",
              "    <tr>\n",
              "      <th>In the Cut</th>\n",
              "      <td><img src='http://image.tmdb.org/t/p/w185//lcorM51zECU9prrVCvhvpxfkPhb.jpg' style='height:100px;'></td>\n",
              "      <td>1.916667e-06</td>\n",
              "    </tr>\n",
              "    <tr>\n",
              "      <th>The Samaritan</th>\n",
              "      <td><img src='http://image.tmdb.org/t/p/w185//zSwCwoi2dQmWcwYT0ea9zH6OXN9.jpg' style='height:100px;'></td>\n",
              "      <td>2.100833e-04</td>\n",
              "    </tr>\n",
              "  </tbody>\n",
              "</table>"
            ],
            "text/plain": [
              "<IPython.core.display.HTML object>"
            ]
          },
          "metadata": {
            "tags": []
          },
          "execution_count": 13
        }
      ]
    },
    {
      "cell_type": "markdown",
      "metadata": {
        "id": "2owTxfQU2N9y"
      },
      "source": [
        "__Movies Top 5 - Most Votes__"
      ]
    },
    {
      "cell_type": "code",
      "metadata": {
        "id": "2HigNQUY2N9y",
        "colab": {
          "base_uri": "https://localhost:8080/",
          "height": 670
        },
        "outputId": "9c7c9d1c-fcb3-415c-aefa-90ef7e218281"
      },
      "source": [
        "sortndisplay(\"Votes\", 5, ascending=False)"
      ],
      "execution_count": null,
      "outputs": [
        {
          "output_type": "execute_result",
          "data": {
            "text/html": [
              "<table border=\"1\" class=\"dataframe\">\n",
              "  <thead>\n",
              "    <tr style=\"text-align: right;\">\n",
              "      <th></th>\n",
              "      <th>Poster</th>\n",
              "      <th>Votes</th>\n",
              "    </tr>\n",
              "    <tr>\n",
              "      <th>Title</th>\n",
              "      <th></th>\n",
              "      <th></th>\n",
              "    </tr>\n",
              "  </thead>\n",
              "  <tbody>\n",
              "    <tr>\n",
              "      <th>Inception</th>\n",
              "      <td><img src='http://image.tmdb.org/t/p/w185//9gk7adHYeDvHkCSEqAvQNLV5Uge.jpg' style='height:100px;'></td>\n",
              "      <td>14075.0</td>\n",
              "    </tr>\n",
              "    <tr>\n",
              "      <th>The Dark Knight</th>\n",
              "      <td><img src='http://image.tmdb.org/t/p/w185//qJ2tW6WMUDux911r6m7haRef0WH.jpg' style='height:100px;'></td>\n",
              "      <td>12269.0</td>\n",
              "    </tr>\n",
              "    <tr>\n",
              "      <th>Avatar</th>\n",
              "      <td><img src='http://image.tmdb.org/t/p/w185//btnl50ZDJDSCal2NLQIYWw0XxvH.jpg' style='height:100px;'></td>\n",
              "      <td>12114.0</td>\n",
              "    </tr>\n",
              "    <tr>\n",
              "      <th>The Avengers</th>\n",
              "      <td><img src='http://image.tmdb.org/t/p/w185//RYMX2wcKCBAr24UyPD7xwmjaTn.jpg' style='height:100px;'></td>\n",
              "      <td>12000.0</td>\n",
              "    </tr>\n",
              "    <tr>\n",
              "      <th>Deadpool</th>\n",
              "      <td><img src='http://image.tmdb.org/t/p/w185//fSRb7vyIP8rQpL0I47P3qUsEKX3.jpg' style='height:100px;'></td>\n",
              "      <td>11444.0</td>\n",
              "    </tr>\n",
              "  </tbody>\n",
              "</table>"
            ],
            "text/plain": [
              "<IPython.core.display.HTML object>"
            ]
          },
          "metadata": {
            "tags": []
          },
          "execution_count": 14
        }
      ]
    },
    {
      "cell_type": "markdown",
      "metadata": {
        "id": "Uyi5iu-w2N9y"
      },
      "source": [
        "__Movies Top 5 - Highest Rating__"
      ]
    },
    {
      "cell_type": "code",
      "metadata": {
        "id": "Z_jBCsGn2N9y",
        "colab": {
          "base_uri": "https://localhost:8080/",
          "height": 670
        },
        "outputId": "972af7d6-a77c-489a-e6ae-b2dd63b66f1d"
      },
      "source": [
        "sortndisplay(\"Average Rating\", 5, ascending=False, min_votes=10)"
      ],
      "execution_count": null,
      "outputs": [
        {
          "output_type": "execute_result",
          "data": {
            "text/html": [
              "<table border=\"1\" class=\"dataframe\">\n",
              "  <thead>\n",
              "    <tr style=\"text-align: right;\">\n",
              "      <th></th>\n",
              "      <th>Poster</th>\n",
              "      <th>Average Rating</th>\n",
              "    </tr>\n",
              "    <tr>\n",
              "      <th>Title</th>\n",
              "      <th></th>\n",
              "      <th></th>\n",
              "    </tr>\n",
              "  </thead>\n",
              "  <tbody>\n",
              "    <tr>\n",
              "      <th>Dilwale Dulhania Le Jayenge</th>\n",
              "      <td><img src='http://image.tmdb.org/t/p/w185//2CAL2433ZeIihfX1Hb2139CX0pW.jpg' style='height:100px;'></td>\n",
              "      <td>9.1</td>\n",
              "    </tr>\n",
              "    <tr>\n",
              "      <th>Stop Making Sense</th>\n",
              "      <td><img src='http://image.tmdb.org/t/p/w185//uFMsMsk1NGo0QWs9IHknZVHSe4O.jpg' style='height:100px;'></td>\n",
              "      <td>8.7</td>\n",
              "    </tr>\n",
              "    <tr>\n",
              "      <th>Human</th>\n",
              "      <td><img src='http://image.tmdb.org/t/p/w185//vdZgH8cr73DJTLwvyzFpmm9l3xV.jpg' style='height:100px;'></td>\n",
              "      <td>8.6</td>\n",
              "    </tr>\n",
              "    <tr>\n",
              "      <th>Tosun Pasha</th>\n",
              "      <td><img src='http://image.tmdb.org/t/p/w185//fcvxrVl0yfAZwUjLWLiyu2a5xIq.jpg' style='height:100px;'></td>\n",
              "      <td>8.6</td>\n",
              "    </tr>\n",
              "    <tr>\n",
              "      <th>The Shawshank Redemption</th>\n",
              "      <td><img src='http://image.tmdb.org/t/p/w185//5KCVkau1HEl7ZzfPsKAPM0sMiKc.jpg' style='height:100px;'></td>\n",
              "      <td>8.5</td>\n",
              "    </tr>\n",
              "  </tbody>\n",
              "</table>"
            ],
            "text/plain": [
              "<IPython.core.display.HTML object>"
            ]
          },
          "metadata": {
            "tags": []
          },
          "execution_count": 15
        }
      ]
    },
    {
      "cell_type": "markdown",
      "metadata": {
        "id": "uGjK8XsY2N9z"
      },
      "source": [
        "__Movies Top 5 - Lowest Rating__"
      ]
    },
    {
      "cell_type": "code",
      "metadata": {
        "id": "MFUJ1Asl2N9z",
        "colab": {
          "base_uri": "https://localhost:8080/",
          "height": 670
        },
        "outputId": "1bc0eb35-67b5-4a89-da22-cb4342a98826"
      },
      "source": [
        "sortndisplay(\"Average Rating\", 5, min_votes=10, ascending=True)"
      ],
      "execution_count": null,
      "outputs": [
        {
          "output_type": "execute_result",
          "data": {
            "text/html": [
              "<table border=\"1\" class=\"dataframe\">\n",
              "  <thead>\n",
              "    <tr style=\"text-align: right;\">\n",
              "      <th></th>\n",
              "      <th>Poster</th>\n",
              "      <th>Average Rating</th>\n",
              "    </tr>\n",
              "    <tr>\n",
              "      <th>Title</th>\n",
              "      <th></th>\n",
              "      <th></th>\n",
              "    </tr>\n",
              "  </thead>\n",
              "  <tbody>\n",
              "    <tr>\n",
              "      <th>Call Me by Your Name</th>\n",
              "      <td><img src='http://image.tmdb.org/t/p/w185//tcNniniS4rfqrLH0oORikJfnIwY.jpg' style='height:100px;'></td>\n",
              "      <td>0.0</td>\n",
              "    </tr>\n",
              "    <tr>\n",
              "      <th>Extinction: Nature Has Evolved</th>\n",
              "      <td><img src='http://image.tmdb.org/t/p/w185//13LTZkxrAkswx2eidHK06XbVH8n.jpg' style='height:100px;'></td>\n",
              "      <td>0.0</td>\n",
              "    </tr>\n",
              "    <tr>\n",
              "      <th>The Cloth</th>\n",
              "      <td><img src='http://image.tmdb.org/t/p/w185//O0Zh3SIeAonwDoC6cQF8En0inl.jpg' style='height:100px;'></td>\n",
              "      <td>1.9</td>\n",
              "    </tr>\n",
              "    <tr>\n",
              "      <th>Manos: The Hands of Fate</th>\n",
              "      <td><img src='http://image.tmdb.org/t/p/w185//dcDR1ZhZvA7HQvxQ17hzFjeCNHx.jpg' style='height:100px;'></td>\n",
              "      <td>2.0</td>\n",
              "    </tr>\n",
              "    <tr>\n",
              "      <th>Killjoy</th>\n",
              "      <td><img src='http://image.tmdb.org/t/p/w185//s576k2BjMnT7wKx3so0sRXZDzmK.jpg' style='height:100px;'></td>\n",
              "      <td>2.2</td>\n",
              "    </tr>\n",
              "  </tbody>\n",
              "</table>"
            ],
            "text/plain": [
              "<IPython.core.display.HTML object>"
            ]
          },
          "metadata": {
            "tags": []
          },
          "execution_count": 16
        }
      ]
    },
    {
      "cell_type": "markdown",
      "metadata": {
        "id": "-X24P8ia2N9z"
      },
      "source": [
        "__Movies Top 5 - Most Popular__"
      ]
    },
    {
      "cell_type": "code",
      "metadata": {
        "id": "_MKBN-bq2N9z",
        "colab": {
          "base_uri": "https://localhost:8080/",
          "height": 670
        },
        "outputId": "8fdb66ee-fa79-4f84-f160-713645b5af04"
      },
      "source": [
        "sortndisplay(\"Popularity\", 5, ascending=False)"
      ],
      "execution_count": null,
      "outputs": [
        {
          "output_type": "execute_result",
          "data": {
            "text/html": [
              "<table border=\"1\" class=\"dataframe\">\n",
              "  <thead>\n",
              "    <tr style=\"text-align: right;\">\n",
              "      <th></th>\n",
              "      <th>Poster</th>\n",
              "      <th>Popularity</th>\n",
              "    </tr>\n",
              "    <tr>\n",
              "      <th>Title</th>\n",
              "      <th></th>\n",
              "      <th></th>\n",
              "    </tr>\n",
              "  </thead>\n",
              "  <tbody>\n",
              "    <tr>\n",
              "      <th>Minions</th>\n",
              "      <td><img src='http://image.tmdb.org/t/p/w185//tMaGZ2HR8HAFwkx4YRib0CDVfNT.jpg' style='height:100px;'></td>\n",
              "      <td>547.488298</td>\n",
              "    </tr>\n",
              "    <tr>\n",
              "      <th>Wonder Woman</th>\n",
              "      <td><img src='http://image.tmdb.org/t/p/w185//gfJGlDaHuWimErCr5Ql0I8x9QSy.jpg' style='height:100px;'></td>\n",
              "      <td>294.337037</td>\n",
              "    </tr>\n",
              "    <tr>\n",
              "      <th>Beauty and the Beast</th>\n",
              "      <td><img src='http://image.tmdb.org/t/p/w185//tWqifoYuwLETmmasnGHO7xBjEtt.jpg' style='height:100px;'></td>\n",
              "      <td>287.253654</td>\n",
              "    </tr>\n",
              "    <tr>\n",
              "      <th>Baby Driver</th>\n",
              "      <td><img src='http://image.tmdb.org/t/p/w185//rmnQ9jKW72bHu8uKlMjPIb2VLMI.jpg' style='height:100px;'></td>\n",
              "      <td>228.032744</td>\n",
              "    </tr>\n",
              "    <tr>\n",
              "      <th>Big Hero 6</th>\n",
              "      <td><img src='http://image.tmdb.org/t/p/w185//xozrGME58olN1xBhtxmjpOoY0jH.jpg' style='height:100px;'></td>\n",
              "      <td>213.849907</td>\n",
              "    </tr>\n",
              "  </tbody>\n",
              "</table>"
            ],
            "text/plain": [
              "<IPython.core.display.HTML object>"
            ]
          },
          "metadata": {
            "tags": []
          },
          "execution_count": 17
        }
      ]
    },
    {
      "cell_type": "markdown",
      "metadata": {
        "id": "YeOER8J82N9z"
      },
      "source": [
        "## Find your next Movie"
      ]
    },
    {
      "cell_type": "markdown",
      "metadata": {
        "id": "WtBuphaC2N9z"
      },
      "source": [
        "3. __Filter__ the Dataset for movies that meet the following conditions:"
      ]
    },
    {
      "cell_type": "markdown",
      "metadata": {
        "id": "4avYFPpq2N90"
      },
      "source": [
        "__Search 1: Science Fiction Action Movie with Bruce Willis (sorted from high to low Rating)__"
      ]
    },
    {
      "cell_type": "code",
      "metadata": {
        "colab": {
          "base_uri": "https://localhost:8080/",
          "height": 788
        },
        "id": "X0qiplEqgqmQ",
        "outputId": "eb7aff21-91f7-4bda-9fcc-0393832c41a2"
      },
      "source": [
        "mask_genres = movie_df[\"genres\"].str.contains('Science Fiction') & movie_df[\"genres\"].str.contains('Action')\n",
        "mask_actor = movie_df[\"cast\"].str.contains(\"Bruce Willis\")\n",
        "bruce_df = movie_df.loc[mask_actor & mask_genres, ['title', 'poster_path' ,'vote_average']].sort_values('vote_average', ascending=False)\n",
        "bruce_df.set_index('title', inplace=True)\n",
        "HTML(bruce_df.to_html(escape=False))"
      ],
      "execution_count": null,
      "outputs": [
        {
          "output_type": "execute_result",
          "data": {
            "text/html": [
              "<table border=\"1\" class=\"dataframe\">\n",
              "  <thead>\n",
              "    <tr style=\"text-align: right;\">\n",
              "      <th></th>\n",
              "      <th>poster_path</th>\n",
              "      <th>vote_average</th>\n",
              "    </tr>\n",
              "    <tr>\n",
              "      <th>title</th>\n",
              "      <th></th>\n",
              "      <th></th>\n",
              "    </tr>\n",
              "  </thead>\n",
              "  <tbody>\n",
              "    <tr>\n",
              "      <th>The Fifth Element</th>\n",
              "      <td><img src='http://image.tmdb.org/t/p/w185//fPtlCO1yQtnoLHOwKtWz7db6RGU.jpg' style='height:100px;'></td>\n",
              "      <td>7.3</td>\n",
              "    </tr>\n",
              "    <tr>\n",
              "      <th>Looper</th>\n",
              "      <td><img src='http://image.tmdb.org/t/p/w185//sNjL6SqErDBE8OUZlrDLkexfsCj.jpg' style='height:100px;'></td>\n",
              "      <td>6.6</td>\n",
              "    </tr>\n",
              "    <tr>\n",
              "      <th>Armageddon</th>\n",
              "      <td><img src='http://image.tmdb.org/t/p/w185//fMtOCd0EAdAzKtGLQiHjSUvbdNc.jpg' style='height:100px;'></td>\n",
              "      <td>6.5</td>\n",
              "    </tr>\n",
              "    <tr>\n",
              "      <th>Surrogates</th>\n",
              "      <td><img src='http://image.tmdb.org/t/p/w185//v3Z0Hbl0oe57njrrIPh0fJPFoo.jpg' style='height:100px;'></td>\n",
              "      <td>5.9</td>\n",
              "    </tr>\n",
              "    <tr>\n",
              "      <th>G.I. Joe: Retaliation</th>\n",
              "      <td><img src='http://image.tmdb.org/t/p/w185//3rWIZMzTKcCtV0eHJ70Z4Ru659f.jpg' style='height:100px;'></td>\n",
              "      <td>5.4</td>\n",
              "    </tr>\n",
              "    <tr>\n",
              "      <th>Vice</th>\n",
              "      <td><img src='http://image.tmdb.org/t/p/w185//nPqNoQ55RIrmmo9mpqg1jE3ENza.jpg' style='height:100px;'></td>\n",
              "      <td>4.1</td>\n",
              "    </tr>\n",
              "  </tbody>\n",
              "</table>"
            ],
            "text/plain": [
              "<IPython.core.display.HTML object>"
            ]
          },
          "metadata": {
            "tags": []
          },
          "execution_count": 18
        }
      ]
    },
    {
      "cell_type": "markdown",
      "metadata": {
        "id": "YSPx3fbh2N90"
      },
      "source": [
        "__Search 2: Movies with Uma Thurman and directed by Quentin Tarantino (sorted from short to long runtime)__"
      ]
    },
    {
      "cell_type": "code",
      "metadata": {
        "colab": {
          "base_uri": "https://localhost:8080/",
          "height": 434
        },
        "id": "RiHVTXnYA-dw",
        "outputId": "34eeaa22-3cfa-4120-81cd-c1c279719431"
      },
      "source": [
        "mask_director = movie_df[\"director\"].str.contains('Quentin Tarantino')\n",
        "mask_actor = movie_df[\"cast\"].str.contains(\"Uma Thurman\")\n",
        "uma_tarantino = movie_df.loc[mask_actor & mask_director, ['title', 'poster_path', 'runtime']].sort_values('runtime', ascending=True)\n",
        "uma_tarantino.set_index('title', inplace=True)\n",
        "HTML(uma_tarantino.to_html(escape=False))"
      ],
      "execution_count": null,
      "outputs": [
        {
          "output_type": "execute_result",
          "data": {
            "text/html": [
              "<table border=\"1\" class=\"dataframe\">\n",
              "  <thead>\n",
              "    <tr style=\"text-align: right;\">\n",
              "      <th></th>\n",
              "      <th>poster_path</th>\n",
              "      <th>runtime</th>\n",
              "    </tr>\n",
              "    <tr>\n",
              "      <th>title</th>\n",
              "      <th></th>\n",
              "      <th></th>\n",
              "    </tr>\n",
              "  </thead>\n",
              "  <tbody>\n",
              "    <tr>\n",
              "      <th>Kill Bill: Vol. 1</th>\n",
              "      <td><img src='http://image.tmdb.org/t/p/w185//v7TaX8kXMXs5yFFGR41guUDNcnB.jpg' style='height:100px;'></td>\n",
              "      <td>111.0</td>\n",
              "    </tr>\n",
              "    <tr>\n",
              "      <th>Kill Bill: Vol. 2</th>\n",
              "      <td><img src='http://image.tmdb.org/t/p/w185//2yhg0mZQMhDyvUQ4rG1IZ4oIA8L.jpg' style='height:100px;'></td>\n",
              "      <td>136.0</td>\n",
              "    </tr>\n",
              "    <tr>\n",
              "      <th>Pulp Fiction</th>\n",
              "      <td><img src='http://image.tmdb.org/t/p/w185//d5iIlFn5s0ImszYzBPb8JPIfbXD.jpg' style='height:100px;'></td>\n",
              "      <td>154.0</td>\n",
              "    </tr>\n",
              "  </tbody>\n",
              "</table>"
            ],
            "text/plain": [
              "<IPython.core.display.HTML object>"
            ]
          },
          "metadata": {
            "tags": []
          },
          "execution_count": 19
        }
      ]
    },
    {
      "cell_type": "markdown",
      "metadata": {
        "id": "KJyvr3fN2N90"
      },
      "source": [
        "__Search 3: Most Successful Pixar Studio Movies between 2010 and 2015 (sorted from high to low Revenue)__"
      ]
    },
    {
      "cell_type": "code",
      "metadata": {
        "colab": {
          "base_uri": "https://localhost:8080/",
          "height": 1000
        },
        "id": "BcwsWq6ABh5f",
        "outputId": "b5011aca-e18d-4f7e-d408-4c7841683075"
      },
      "source": [
        "studio_mask = (movie_df.production_companies.str.contains(\"Pixar\")).fillna(False)\n",
        "year_mask = ((movie_df.release_date >= '2010-01-01') & (movie_df.release_date < '2016-01-01'))\n",
        "pixar_10_15 = movie_df.loc[studio_mask & year_mask, ['title', 'poster_path', 'revenue_musd', 'release_date']].sort_values('revenue_musd', ascending=False)\n",
        "pixar_10_15.set_index('title', inplace=True)\n",
        "HTML(pixar_10_15.to_html(escape=False))"
      ],
      "execution_count": null,
      "outputs": [
        {
          "output_type": "execute_result",
          "data": {
            "text/html": [
              "<table border=\"1\" class=\"dataframe\">\n",
              "  <thead>\n",
              "    <tr style=\"text-align: right;\">\n",
              "      <th></th>\n",
              "      <th>poster_path</th>\n",
              "      <th>revenue_musd</th>\n",
              "      <th>release_date</th>\n",
              "    </tr>\n",
              "    <tr>\n",
              "      <th>title</th>\n",
              "      <th></th>\n",
              "      <th></th>\n",
              "      <th></th>\n",
              "    </tr>\n",
              "  </thead>\n",
              "  <tbody>\n",
              "    <tr>\n",
              "      <th>Toy Story 3</th>\n",
              "      <td><img src='http://image.tmdb.org/t/p/w185//amY0NH1ksd9xJ9boXAMmods6U0D.jpg' style='height:100px;'></td>\n",
              "      <td>1066.969703</td>\n",
              "      <td>2010-06-16</td>\n",
              "    </tr>\n",
              "    <tr>\n",
              "      <th>Inside Out</th>\n",
              "      <td><img src='http://image.tmdb.org/t/p/w185//lRHE0vzf3oYJrhbsHXjIkF4Tl5A.jpg' style='height:100px;'></td>\n",
              "      <td>857.611174</td>\n",
              "      <td>2015-06-09</td>\n",
              "    </tr>\n",
              "    <tr>\n",
              "      <th>Monsters University</th>\n",
              "      <td><img src='http://image.tmdb.org/t/p/w185//tyHHjZEzJutWggujN1KP0a1jfLX.jpg' style='height:100px;'></td>\n",
              "      <td>743.559607</td>\n",
              "      <td>2013-06-20</td>\n",
              "    </tr>\n",
              "    <tr>\n",
              "      <th>Cars 2</th>\n",
              "      <td><img src='http://image.tmdb.org/t/p/w185//okIz1HyxeVOMzYwwHUjH2pHi74I.jpg' style='height:100px;'></td>\n",
              "      <td>559.852396</td>\n",
              "      <td>2011-06-11</td>\n",
              "    </tr>\n",
              "    <tr>\n",
              "      <th>Brave</th>\n",
              "      <td><img src='http://image.tmdb.org/t/p/w185//8l0pzWBrStFtbZiqeu0cGhxGKkT.jpg' style='height:100px;'></td>\n",
              "      <td>538.983207</td>\n",
              "      <td>2012-06-21</td>\n",
              "    </tr>\n",
              "    <tr>\n",
              "      <th>The Good Dinosaur</th>\n",
              "      <td><img src='http://image.tmdb.org/t/p/w185//8RSkxOO80btfKjyiC5ZiTaCHIT8.jpg' style='height:100px;'></td>\n",
              "      <td>331.926147</td>\n",
              "      <td>2015-11-14</td>\n",
              "    </tr>\n",
              "    <tr>\n",
              "      <th>Day & Night</th>\n",
              "      <td><img src='http://image.tmdb.org/t/p/w185//eQ1QUZfblOrusXVfbzzCuUaM7ix.jpg' style='height:100px;'></td>\n",
              "      <td>NaN</td>\n",
              "      <td>2010-06-17</td>\n",
              "    </tr>\n",
              "    <tr>\n",
              "      <th>The Blue Umbrella</th>\n",
              "      <td><img src='http://image.tmdb.org/t/p/w185//iSWV7ra8HJ3gYnZFMMrPe8CBbrv.jpg' style='height:100px;'></td>\n",
              "      <td>NaN</td>\n",
              "      <td>2013-02-12</td>\n",
              "    </tr>\n",
              "    <tr>\n",
              "      <th>Toy Story of Terror!</th>\n",
              "      <td><img src='http://image.tmdb.org/t/p/w185//aNDrMDZYmcoMlJa6K3VicYeAgt1.jpg' style='height:100px;'></td>\n",
              "      <td>NaN</td>\n",
              "      <td>2013-10-15</td>\n",
              "    </tr>\n",
              "    <tr>\n",
              "      <th>La luna</th>\n",
              "      <td><img src='http://image.tmdb.org/t/p/w185//iS6DB1hIRJHQPs9wWXvIzdnp7oD.jpg' style='height:100px;'></td>\n",
              "      <td>NaN</td>\n",
              "      <td>2011-01-01</td>\n",
              "    </tr>\n",
              "    <tr>\n",
              "      <th>Hawaiian Vacation</th>\n",
              "      <td><img src='http://image.tmdb.org/t/p/w185//tByW10AkjWG0DtZwN2E2trT88DD.jpg' style='height:100px;'></td>\n",
              "      <td>NaN</td>\n",
              "      <td>2011-06-16</td>\n",
              "    </tr>\n",
              "    <tr>\n",
              "      <th>Small Fry</th>\n",
              "      <td><img src='http://image.tmdb.org/t/p/w185//z096FtMoUZxf9kqzSj39YE6psuD.jpg' style='height:100px;'></td>\n",
              "      <td>NaN</td>\n",
              "      <td>2011-11-23</td>\n",
              "    </tr>\n",
              "    <tr>\n",
              "      <th>Partysaurus Rex</th>\n",
              "      <td><img src='http://image.tmdb.org/t/p/w185//ylj9TnXrTgiETysgBoSb8UQwEUc.jpg' style='height:100px;'></td>\n",
              "      <td>NaN</td>\n",
              "      <td>2012-09-14</td>\n",
              "    </tr>\n",
              "    <tr>\n",
              "      <th>The Legend of Mor'du</th>\n",
              "      <td><img src='http://image.tmdb.org/t/p/w185//8FKR6880g0JRiblbTQEijGlq3Qj.jpg' style='height:100px;'></td>\n",
              "      <td>NaN</td>\n",
              "      <td>2012-01-01</td>\n",
              "    </tr>\n",
              "    <tr>\n",
              "      <th>Toy Story That Time Forgot</th>\n",
              "      <td><img src='http://image.tmdb.org/t/p/w185//jqQPN3X3aV5VmpTiEEASt36nlfi.jpg' style='height:100px;'></td>\n",
              "      <td>NaN</td>\n",
              "      <td>2014-12-02</td>\n",
              "    </tr>\n",
              "    <tr>\n",
              "      <th>Lava</th>\n",
              "      <td><img src='http://image.tmdb.org/t/p/w185//blZSkXNN4CzRBxdxXnz3YpUjnJp.jpg' style='height:100px;'></td>\n",
              "      <td>NaN</td>\n",
              "      <td>2015-06-21</td>\n",
              "    </tr>\n",
              "    <tr>\n",
              "      <th>Sanjay's Super Team</th>\n",
              "      <td><img src='http://image.tmdb.org/t/p/w185//mShcGzOctlq6zs33UdrCdAwZMGq.jpg' style='height:100px;'></td>\n",
              "      <td>NaN</td>\n",
              "      <td>2015-11-25</td>\n",
              "    </tr>\n",
              "    <tr>\n",
              "      <th>Air Mater</th>\n",
              "      <td><img src='http://image.tmdb.org/t/p/w185//jDwglSvFNBfWJNiyxD41CUcUic1.jpg' style='height:100px;'></td>\n",
              "      <td>NaN</td>\n",
              "      <td>2011-08-04</td>\n",
              "    </tr>\n",
              "    <tr>\n",
              "      <th>Riley's First Date?</th>\n",
              "      <td><img src='http://image.tmdb.org/t/p/w185//pyry5DuBCUiX02OtXRpPsjJ1r0L.jpg' style='height:100px;'></td>\n",
              "      <td>NaN</td>\n",
              "      <td>2015-11-03</td>\n",
              "    </tr>\n",
              "  </tbody>\n",
              "</table>"
            ],
            "text/plain": [
              "<IPython.core.display.HTML object>"
            ]
          },
          "metadata": {
            "tags": []
          },
          "execution_count": 20
        }
      ]
    },
    {
      "cell_type": "markdown",
      "metadata": {
        "id": "WvdCLE0e2N90"
      },
      "source": [
        "__Search 4: Action or Thriller Movie with original language English and minimum Rating of 7.5 (most recent movies first)__"
      ]
    },
    {
      "cell_type": "code",
      "metadata": {
        "id": "7QqZ0mL72N90",
        "colab": {
          "base_uri": "https://localhost:8080/",
          "height": 1000
        },
        "outputId": "c549a3ad-0530-42d4-d412-6c8725ce2841"
      },
      "source": [
        "lang_mask = movie_df.original_language == 'en'\n",
        "genres_mask = movie_df.genres.str.contains('Action') | movie_df.genres.str.contains('Thriller')\n",
        "rating_mask = movie_df.vote_average >= 7.5\n",
        "count_mask = movie_df.vote_count >= 10\n",
        "action_thrill = movie_df.loc[lang_mask & genres_mask & rating_mask & count_mask, ['title', 'poster_path', 'genres','vote_average', 'vote_count', 'release_date']].sort_values('release_date', ascending=False).head(20)\n",
        "action_thrill.set_index('title', inplace=True)\n",
        "HTML(action_thrill.to_html(escape=False))"
      ],
      "execution_count": null,
      "outputs": [
        {
          "output_type": "execute_result",
          "data": {
            "text/html": [
              "<table border=\"1\" class=\"dataframe\">\n",
              "  <thead>\n",
              "    <tr style=\"text-align: right;\">\n",
              "      <th></th>\n",
              "      <th>poster_path</th>\n",
              "      <th>genres</th>\n",
              "      <th>vote_average</th>\n",
              "      <th>vote_count</th>\n",
              "      <th>release_date</th>\n",
              "    </tr>\n",
              "    <tr>\n",
              "      <th>title</th>\n",
              "      <th></th>\n",
              "      <th></th>\n",
              "      <th></th>\n",
              "      <th></th>\n",
              "      <th></th>\n",
              "    </tr>\n",
              "  </thead>\n",
              "  <tbody>\n",
              "    <tr>\n",
              "      <th>Descendants 2</th>\n",
              "      <td><img src='http://image.tmdb.org/t/p/w185//8BNyZlBk4Hs92z6UrvFDjvx3yMb.jpg' style='height:100px;'></td>\n",
              "      <td>TV Movie|Family|Action|Comedy|Music|Adventure</td>\n",
              "      <td>7.5</td>\n",
              "      <td>171.0</td>\n",
              "      <td>2017-07-21</td>\n",
              "    </tr>\n",
              "    <tr>\n",
              "      <th>Dunkirk</th>\n",
              "      <td><img src='http://image.tmdb.org/t/p/w185//ebSnODDg9lbsMIaWg2uAbjn7TO5.jpg' style='height:100px;'></td>\n",
              "      <td>Action|Drama|History|Thriller|War</td>\n",
              "      <td>7.5</td>\n",
              "      <td>2712.0</td>\n",
              "      <td>2017-07-19</td>\n",
              "    </tr>\n",
              "    <tr>\n",
              "      <th>The Book of Henry</th>\n",
              "      <td><img src='http://image.tmdb.org/t/p/w185//suLFg4UjvM5BoDipg2Wu3gZ802T.jpg' style='height:100px;'></td>\n",
              "      <td>Thriller|Drama|Crime</td>\n",
              "      <td>7.6</td>\n",
              "      <td>84.0</td>\n",
              "      <td>2017-06-16</td>\n",
              "    </tr>\n",
              "    <tr>\n",
              "      <th>Guardians of the Galaxy Vol. 2</th>\n",
              "      <td><img src='http://image.tmdb.org/t/p/w185//y4MBh0EjBlMuOzv9axM4qJlmhzz.jpg' style='height:100px;'></td>\n",
              "      <td>Action|Adventure|Comedy|Science Fiction</td>\n",
              "      <td>7.6</td>\n",
              "      <td>4858.0</td>\n",
              "      <td>2017-04-19</td>\n",
              "    </tr>\n",
              "    <tr>\n",
              "      <th>Logan</th>\n",
              "      <td><img src='http://image.tmdb.org/t/p/w185//fnbjcRDYn6YviCcePDnGdyAkYsB.jpg' style='height:100px;'></td>\n",
              "      <td>Action|Drama|Science Fiction</td>\n",
              "      <td>7.6</td>\n",
              "      <td>6310.0</td>\n",
              "      <td>2017-02-28</td>\n",
              "    </tr>\n",
              "    <tr>\n",
              "      <th>The Thinning</th>\n",
              "      <td><img src='http://image.tmdb.org/t/p/w185//55yQMgLwJDyEom2Kose80JjTlDt.jpg' style='height:100px;'></td>\n",
              "      <td>Thriller</td>\n",
              "      <td>7.6</td>\n",
              "      <td>92.0</td>\n",
              "      <td>2016-10-12</td>\n",
              "    </tr>\n",
              "    <tr>\n",
              "      <th>11.22.63</th>\n",
              "      <td><img src='http://image.tmdb.org/t/p/w185//5EJGeeuPy19EGDy8HErpbHba0yq.jpg' style='height:100px;'></td>\n",
              "      <td>Drama|History|Thriller</td>\n",
              "      <td>8.0</td>\n",
              "      <td>213.0</td>\n",
              "      <td>2016-02-15</td>\n",
              "    </tr>\n",
              "    <tr>\n",
              "      <th>Star Wars: The Force Awakens</th>\n",
              "      <td><img src='http://image.tmdb.org/t/p/w185//9rd002JS49RwDW944fF1wjU8iTV.jpg' style='height:100px;'></td>\n",
              "      <td>Action|Adventure|Science Fiction|Fantasy</td>\n",
              "      <td>7.5</td>\n",
              "      <td>7993.0</td>\n",
              "      <td>2015-12-15</td>\n",
              "    </tr>\n",
              "    <tr>\n",
              "      <th>London Spy</th>\n",
              "      <td><img src='http://image.tmdb.org/t/p/w185//Ef9ZvB7p0BWJwEup7KE6x96NDw.jpg' style='height:100px;'></td>\n",
              "      <td>Romance|Crime|Drama|Mystery|Thriller</td>\n",
              "      <td>8.8</td>\n",
              "      <td>12.0</td>\n",
              "      <td>2015-11-09</td>\n",
              "    </tr>\n",
              "    <tr>\n",
              "      <th>Spotlight</th>\n",
              "      <td><img src='http://image.tmdb.org/t/p/w185//28Vnvn1WI1wJtP1kDqeRCZ1GdYm.jpg' style='height:100px;'></td>\n",
              "      <td>Drama|Thriller|History</td>\n",
              "      <td>7.8</td>\n",
              "      <td>2751.0</td>\n",
              "      <td>2015-11-06</td>\n",
              "    </tr>\n",
              "    <tr>\n",
              "      <th>Room</th>\n",
              "      <td><img src='http://image.tmdb.org/t/p/w185//pCURNjeomWbMSdiP64gj8NVVHTQ.jpg' style='height:100px;'></td>\n",
              "      <td>Drama|Thriller</td>\n",
              "      <td>8.1</td>\n",
              "      <td>2838.0</td>\n",
              "      <td>2015-10-16</td>\n",
              "    </tr>\n",
              "    <tr>\n",
              "      <th>The Fear of 13</th>\n",
              "      <td><img src='http://image.tmdb.org/t/p/w185//k5uLNLfmX5aUVm9uiYpAA1uj4BQ.jpg' style='height:100px;'></td>\n",
              "      <td>Thriller|Documentary</td>\n",
              "      <td>8.0</td>\n",
              "      <td>45.0</td>\n",
              "      <td>2015-10-15</td>\n",
              "    </tr>\n",
              "    <tr>\n",
              "      <th>3 ½ Minutes, 10 Bullets</th>\n",
              "      <td><img src='http://image.tmdb.org/t/p/w185//nUQDNzBp8IvqkvLYdCYsoQhaDaS.jpg' style='height:100px;'></td>\n",
              "      <td>Thriller|Documentary</td>\n",
              "      <td>7.8</td>\n",
              "      <td>30.0</td>\n",
              "      <td>2015-10-02</td>\n",
              "    </tr>\n",
              "    <tr>\n",
              "      <th>An Inspector Calls</th>\n",
              "      <td><img src='http://image.tmdb.org/t/p/w185//2e0zkY38Qykc69C4eK7uCMOIHfM.jpg' style='height:100px;'></td>\n",
              "      <td>Drama|Crime|Thriller</td>\n",
              "      <td>7.6</td>\n",
              "      <td>42.0</td>\n",
              "      <td>2015-09-13</td>\n",
              "    </tr>\n",
              "    <tr>\n",
              "      <th>Kung Fury</th>\n",
              "      <td><img src='http://image.tmdb.org/t/p/w185//nbWY6797LUxXRSYwamHp8V0X4dA.jpg' style='height:100px;'></td>\n",
              "      <td>Action|Comedy|Science Fiction|Fantasy</td>\n",
              "      <td>7.6</td>\n",
              "      <td>762.0</td>\n",
              "      <td>2015-05-22</td>\n",
              "    </tr>\n",
              "    <tr>\n",
              "      <th>Kingsman: The Secret Service</th>\n",
              "      <td><img src='http://image.tmdb.org/t/p/w185//r6q9wZK5a2K51KFj4LWVID6Ja1r.jpg' style='height:100px;'></td>\n",
              "      <td>Crime|Comedy|Action|Adventure</td>\n",
              "      <td>7.6</td>\n",
              "      <td>6069.0</td>\n",
              "      <td>2015-01-29</td>\n",
              "    </tr>\n",
              "    <tr>\n",
              "      <th>Black Mirror: White Christmas</th>\n",
              "      <td><img src='http://image.tmdb.org/t/p/w185//he609rnU3tiwBjRklKNa4n2jQSd.jpg' style='height:100px;'></td>\n",
              "      <td>Drama|Horror|Mystery|Science Fiction|Thriller|TV Movie</td>\n",
              "      <td>8.3</td>\n",
              "      <td>211.0</td>\n",
              "      <td>2014-12-16</td>\n",
              "    </tr>\n",
              "    <tr>\n",
              "      <th>The Imitation Game</th>\n",
              "      <td><img src='http://image.tmdb.org/t/p/w185//ntZGfHt4d73A9fDD4KUN4nbDQlq.jpg' style='height:100px;'></td>\n",
              "      <td>History|Drama|Thriller|War</td>\n",
              "      <td>8.0</td>\n",
              "      <td>5895.0</td>\n",
              "      <td>2014-11-14</td>\n",
              "    </tr>\n",
              "    <tr>\n",
              "      <th>Big Hero 6</th>\n",
              "      <td><img src='http://image.tmdb.org/t/p/w185//xozrGME58olN1xBhtxmjpOoY0jH.jpg' style='height:100px;'></td>\n",
              "      <td>Adventure|Family|Animation|Action|Comedy</td>\n",
              "      <td>7.8</td>\n",
              "      <td>6289.0</td>\n",
              "      <td>2014-10-24</td>\n",
              "    </tr>\n",
              "    <tr>\n",
              "      <th>Nightcrawler</th>\n",
              "      <td><img src='http://image.tmdb.org/t/p/w185//gYPIRu0jX2CGYdeO422cq3N78ju.jpg' style='height:100px;'></td>\n",
              "      <td>Crime|Drama|Thriller</td>\n",
              "      <td>7.6</td>\n",
              "      <td>3475.0</td>\n",
              "      <td>2014-10-23</td>\n",
              "    </tr>\n",
              "  </tbody>\n",
              "</table>"
            ],
            "text/plain": [
              "<IPython.core.display.HTML object>"
            ]
          },
          "metadata": {
            "tags": []
          },
          "execution_count": 21
        }
      ]
    },
    {
      "cell_type": "markdown",
      "metadata": {
        "id": "oBmW0BCI2N90"
      },
      "source": [
        "## Are Franchises more successful?"
      ]
    },
    {
      "cell_type": "markdown",
      "metadata": {
        "id": "KT7mum092N90"
      },
      "source": [
        "4. __Analyze__ the Dataset and __find out whether Franchises (Movies that belong to a collection) are more successful than stand-alone movies__ in terms of:"
      ]
    },
    {
      "cell_type": "markdown",
      "metadata": {
        "id": "15XdelKQ2N91"
      },
      "source": [
        "- mean revenue\n",
        "- median Return on Investment\n",
        "- mean budget raised\n",
        "- mean popularity\n",
        "- mean rating"
      ]
    },
    {
      "cell_type": "markdown",
      "metadata": {
        "id": "CQOQPTMM2N91"
      },
      "source": [
        "hint: use groupby()"
      ]
    },
    {
      "cell_type": "markdown",
      "metadata": {
        "id": "xXskgabL2N91"
      },
      "source": [
        "__Franchise vs. Stand-alone: Average Revenue__"
      ]
    },
    {
      "cell_type": "code",
      "metadata": {
        "id": "gj757pdT2N91"
      },
      "source": [
        "movie_df[\"franchise\"] = movie_df.belongs_to_collection.notna()"
      ],
      "execution_count": null,
      "outputs": []
    },
    {
      "cell_type": "code",
      "metadata": {
        "colab": {
          "base_uri": "https://localhost:8080/"
        },
        "id": "nTG8Xw58MBIz",
        "outputId": "f7060275-87d1-42bd-cbe4-4d522036fb7e"
      },
      "source": [
        "movie_df.groupby(\"franchise\").revenue_musd.mean()"
      ],
      "execution_count": null,
      "outputs": [
        {
          "output_type": "execute_result",
          "data": {
            "text/plain": [
              "franchise\n",
              "False     44.742814\n",
              "True     165.708193\n",
              "Name: revenue_musd, dtype: float64"
            ]
          },
          "metadata": {
            "tags": []
          },
          "execution_count": 23
        }
      ]
    },
    {
      "cell_type": "markdown",
      "metadata": {
        "id": "B8ypGLVp2N91"
      },
      "source": [
        "__Franchise vs. Stand-alone: Return on Investment / Profitability (median)__"
      ]
    },
    {
      "cell_type": "code",
      "metadata": {
        "id": "P70B_bjn2N92",
        "colab": {
          "base_uri": "https://localhost:8080/"
        },
        "outputId": "1fef32d6-5ff7-43e8-b32a-0082cbcd7915"
      },
      "source": [
        "movie_df[\"roi\"] = movie_df['revenue_musd']/movie_df['budget_musd']\n",
        "movie_df.groupby(\"franchise\").roi.median()"
      ],
      "execution_count": null,
      "outputs": [
        {
          "output_type": "execute_result",
          "data": {
            "text/plain": [
              "franchise\n",
              "False    1.619699\n",
              "True     3.709195\n",
              "Name: roi, dtype: float64"
            ]
          },
          "metadata": {
            "tags": []
          },
          "execution_count": 24
        }
      ]
    },
    {
      "cell_type": "markdown",
      "metadata": {
        "id": "oadk7Frw2N92"
      },
      "source": [
        "__Franchise vs. Stand-alone: Average Budget__"
      ]
    },
    {
      "cell_type": "code",
      "metadata": {
        "id": "2_J5eMX02N92",
        "colab": {
          "base_uri": "https://localhost:8080/"
        },
        "outputId": "d7915e81-3639-4aa2-8779-c11c18ae8ae5"
      },
      "source": [
        "movie_df.groupby(\"franchise\").budget_musd.mean()"
      ],
      "execution_count": null,
      "outputs": [
        {
          "output_type": "execute_result",
          "data": {
            "text/plain": [
              "franchise\n",
              "False    18.047741\n",
              "True     38.319847\n",
              "Name: budget_musd, dtype: float64"
            ]
          },
          "metadata": {
            "tags": []
          },
          "execution_count": 25
        }
      ]
    },
    {
      "cell_type": "markdown",
      "metadata": {
        "id": "HPUXMlMK2N92"
      },
      "source": [
        "__Franchise vs. Stand-alone: Average Popularity__"
      ]
    },
    {
      "cell_type": "code",
      "metadata": {
        "id": "Tu4rq6D-2N92",
        "colab": {
          "base_uri": "https://localhost:8080/"
        },
        "outputId": "489ba56d-cb13-4e07-b14a-b7ddd7a4044f"
      },
      "source": [
        "movie_df.groupby(\"franchise\").popularity.mean()"
      ],
      "execution_count": null,
      "outputs": [
        {
          "output_type": "execute_result",
          "data": {
            "text/plain": [
              "franchise\n",
              "False    2.592726\n",
              "True     6.245051\n",
              "Name: popularity, dtype: float64"
            ]
          },
          "metadata": {
            "tags": []
          },
          "execution_count": 26
        }
      ]
    },
    {
      "cell_type": "markdown",
      "metadata": {
        "id": "9RyjMeCQ2N93"
      },
      "source": [
        "__Franchise vs. Stand-alone: Average Rating__"
      ]
    },
    {
      "cell_type": "code",
      "metadata": {
        "id": "j4_1Qj3F2N93",
        "colab": {
          "base_uri": "https://localhost:8080/"
        },
        "outputId": "52dde81f-8852-4f06-b5f8-a13d4910647f"
      },
      "source": [
        "movie_df.groupby(\"franchise\").vote_average.mean()"
      ],
      "execution_count": null,
      "outputs": [
        {
          "output_type": "execute_result",
          "data": {
            "text/plain": [
              "franchise\n",
              "False    6.008787\n",
              "True     5.956806\n",
              "Name: vote_average, dtype: float64"
            ]
          },
          "metadata": {
            "tags": []
          },
          "execution_count": 27
        }
      ]
    },
    {
      "cell_type": "code",
      "metadata": {
        "colab": {
          "base_uri": "https://localhost:8080/",
          "height": 142
        },
        "id": "rSxUPwo1Nw1A",
        "outputId": "a96c1b64-3a6b-4331-80c4-65ea9a6e8342"
      },
      "source": [
        "movie_df.groupby(\"franchise\").agg({\"budget_musd\": \"mean\", \"revenue_musd\": \"mean\", \"vote_average\": \"mean\",\n",
        "                            \"popularity\": \"mean\", \"roi\":\"median\", \"vote_count\":\"mean\"})"
      ],
      "execution_count": null,
      "outputs": [
        {
          "output_type": "execute_result",
          "data": {
            "text/html": [
              "<div>\n",
              "<style scoped>\n",
              "    .dataframe tbody tr th:only-of-type {\n",
              "        vertical-align: middle;\n",
              "    }\n",
              "\n",
              "    .dataframe tbody tr th {\n",
              "        vertical-align: top;\n",
              "    }\n",
              "\n",
              "    .dataframe thead th {\n",
              "        text-align: right;\n",
              "    }\n",
              "</style>\n",
              "<table border=\"1\" class=\"dataframe\">\n",
              "  <thead>\n",
              "    <tr style=\"text-align: right;\">\n",
              "      <th></th>\n",
              "      <th>budget_musd</th>\n",
              "      <th>revenue_musd</th>\n",
              "      <th>vote_average</th>\n",
              "      <th>popularity</th>\n",
              "      <th>roi</th>\n",
              "      <th>vote_count</th>\n",
              "    </tr>\n",
              "    <tr>\n",
              "      <th>franchise</th>\n",
              "      <th></th>\n",
              "      <th></th>\n",
              "      <th></th>\n",
              "      <th></th>\n",
              "      <th></th>\n",
              "      <th></th>\n",
              "    </tr>\n",
              "  </thead>\n",
              "  <tbody>\n",
              "    <tr>\n",
              "      <th>False</th>\n",
              "      <td>18.047741</td>\n",
              "      <td>44.742814</td>\n",
              "      <td>6.008787</td>\n",
              "      <td>2.592726</td>\n",
              "      <td>1.619699</td>\n",
              "      <td>78.289550</td>\n",
              "    </tr>\n",
              "    <tr>\n",
              "      <th>True</th>\n",
              "      <td>38.319847</td>\n",
              "      <td>165.708193</td>\n",
              "      <td>5.956806</td>\n",
              "      <td>6.245051</td>\n",
              "      <td>3.709195</td>\n",
              "      <td>412.387856</td>\n",
              "    </tr>\n",
              "  </tbody>\n",
              "</table>\n",
              "</div>"
            ],
            "text/plain": [
              "           budget_musd  revenue_musd  ...       roi  vote_count\n",
              "franchise                             ...                      \n",
              "False        18.047741     44.742814  ...  1.619699   78.289550\n",
              "True         38.319847    165.708193  ...  3.709195  412.387856\n",
              "\n",
              "[2 rows x 6 columns]"
            ]
          },
          "metadata": {
            "tags": []
          },
          "execution_count": 28
        }
      ]
    },
    {
      "cell_type": "markdown",
      "metadata": {
        "id": "i0c1UjPr2N93"
      },
      "source": [
        "## Most Successful Franchises"
      ]
    },
    {
      "cell_type": "markdown",
      "metadata": {
        "id": "CQnSR3692N93"
      },
      "source": [
        "5. __Find__ the __most successful Franchises__ in terms of"
      ]
    },
    {
      "cell_type": "markdown",
      "metadata": {
        "id": "CNi-RVzy2N93"
      },
      "source": [
        "- __total number of movies__\n",
        "- __total & mean budget__\n",
        "- __total & mean revenue__\n",
        "- __mean rating__"
      ]
    },
    {
      "cell_type": "code",
      "metadata": {
        "id": "TSy9w_u-2N93",
        "colab": {
          "base_uri": "https://localhost:8080/"
        },
        "outputId": "84cf2403-2e79-4e96-db3e-8b4c00b7b81c"
      },
      "source": [
        "movie_df.belongs_to_collection"
      ],
      "execution_count": null,
      "outputs": [
        {
          "output_type": "execute_result",
          "data": {
            "text/plain": [
              "0                  Toy Story Collection\n",
              "1                                   NaN\n",
              "2             Grumpy Old Men Collection\n",
              "3                                   NaN\n",
              "4        Father of the Bride Collection\n",
              "                      ...              \n",
              "44686                               NaN\n",
              "44687                               NaN\n",
              "44688                               NaN\n",
              "44689                               NaN\n",
              "44690                               NaN\n",
              "Name: belongs_to_collection, Length: 44691, dtype: object"
            ]
          },
          "metadata": {
            "tags": []
          },
          "execution_count": 29
        }
      ]
    },
    {
      "cell_type": "code",
      "metadata": {
        "id": "bfUT1Ib8OGkI"
      },
      "source": [
        "franchise_df = movie_df.groupby('belongs_to_collection').agg({\"title\": \"count\", \"budget_musd\": [\"sum\", \"mean\"], \n",
        "                                                      \"revenue_musd\": [\"sum\", \"mean\"],\n",
        "                                                      \"vote_average\": \"mean\", \"popularity\": \"mean\",\n",
        "                                                      \"roi\":\"median\", \n",
        "                                                      \"vote_count\":\"mean\"})"
      ],
      "execution_count": null,
      "outputs": []
    },
    {
      "cell_type": "code",
      "metadata": {
        "colab": {
          "base_uri": "https://localhost:8080/",
          "height": 731
        },
        "id": "2fU2khDnP5fQ",
        "outputId": "e180f422-d375-4947-c455-edc205f9a214"
      },
      "source": [
        "franchise_df.nlargest(20, (\"title\", \"count\"))"
      ],
      "execution_count": null,
      "outputs": [
        {
          "output_type": "execute_result",
          "data": {
            "text/html": [
              "<div>\n",
              "<style scoped>\n",
              "    .dataframe tbody tr th:only-of-type {\n",
              "        vertical-align: middle;\n",
              "    }\n",
              "\n",
              "    .dataframe tbody tr th {\n",
              "        vertical-align: top;\n",
              "    }\n",
              "\n",
              "    .dataframe thead tr th {\n",
              "        text-align: left;\n",
              "    }\n",
              "\n",
              "    .dataframe thead tr:last-of-type th {\n",
              "        text-align: right;\n",
              "    }\n",
              "</style>\n",
              "<table border=\"1\" class=\"dataframe\">\n",
              "  <thead>\n",
              "    <tr>\n",
              "      <th></th>\n",
              "      <th>title</th>\n",
              "      <th colspan=\"2\" halign=\"left\">budget_musd</th>\n",
              "      <th colspan=\"2\" halign=\"left\">revenue_musd</th>\n",
              "      <th>vote_average</th>\n",
              "      <th>popularity</th>\n",
              "      <th>roi</th>\n",
              "      <th>vote_count</th>\n",
              "    </tr>\n",
              "    <tr>\n",
              "      <th></th>\n",
              "      <th>count</th>\n",
              "      <th>sum</th>\n",
              "      <th>mean</th>\n",
              "      <th>sum</th>\n",
              "      <th>mean</th>\n",
              "      <th>mean</th>\n",
              "      <th>mean</th>\n",
              "      <th>median</th>\n",
              "      <th>mean</th>\n",
              "    </tr>\n",
              "    <tr>\n",
              "      <th>belongs_to_collection</th>\n",
              "      <th></th>\n",
              "      <th></th>\n",
              "      <th></th>\n",
              "      <th></th>\n",
              "      <th></th>\n",
              "      <th></th>\n",
              "      <th></th>\n",
              "      <th></th>\n",
              "      <th></th>\n",
              "    </tr>\n",
              "  </thead>\n",
              "  <tbody>\n",
              "    <tr>\n",
              "      <th>The Bowery Boys</th>\n",
              "      <td>29</td>\n",
              "      <td>0.0000</td>\n",
              "      <td>NaN</td>\n",
              "      <td>0.000000</td>\n",
              "      <td>NaN</td>\n",
              "      <td>6.675000</td>\n",
              "      <td>0.198006</td>\n",
              "      <td>NaN</td>\n",
              "      <td>0.724138</td>\n",
              "    </tr>\n",
              "    <tr>\n",
              "      <th>Totò Collection</th>\n",
              "      <td>27</td>\n",
              "      <td>0.0000</td>\n",
              "      <td>NaN</td>\n",
              "      <td>0.000000</td>\n",
              "      <td>NaN</td>\n",
              "      <td>6.837037</td>\n",
              "      <td>1.047324</td>\n",
              "      <td>NaN</td>\n",
              "      <td>18.037037</td>\n",
              "    </tr>\n",
              "    <tr>\n",
              "      <th>James Bond Collection</th>\n",
              "      <td>26</td>\n",
              "      <td>1539.6500</td>\n",
              "      <td>59.217308</td>\n",
              "      <td>7106.970239</td>\n",
              "      <td>273.345009</td>\n",
              "      <td>6.338462</td>\n",
              "      <td>13.453502</td>\n",
              "      <td>6.128922</td>\n",
              "      <td>1284.307692</td>\n",
              "    </tr>\n",
              "    <tr>\n",
              "      <th>Zatôichi: The Blind Swordsman</th>\n",
              "      <td>26</td>\n",
              "      <td>0.0000</td>\n",
              "      <td>NaN</td>\n",
              "      <td>0.000000</td>\n",
              "      <td>NaN</td>\n",
              "      <td>6.403846</td>\n",
              "      <td>1.100603</td>\n",
              "      <td>NaN</td>\n",
              "      <td>11.192308</td>\n",
              "    </tr>\n",
              "    <tr>\n",
              "      <th>The Carry On Collection</th>\n",
              "      <td>25</td>\n",
              "      <td>0.0000</td>\n",
              "      <td>NaN</td>\n",
              "      <td>0.000000</td>\n",
              "      <td>NaN</td>\n",
              "      <td>6.168000</td>\n",
              "      <td>3.220430</td>\n",
              "      <td>NaN</td>\n",
              "      <td>21.040000</td>\n",
              "    </tr>\n",
              "    <tr>\n",
              "      <th>Charlie Chan (Sidney Toler) Collection</th>\n",
              "      <td>21</td>\n",
              "      <td>0.0000</td>\n",
              "      <td>NaN</td>\n",
              "      <td>0.000000</td>\n",
              "      <td>NaN</td>\n",
              "      <td>6.609524</td>\n",
              "      <td>0.630996</td>\n",
              "      <td>NaN</td>\n",
              "      <td>5.809524</td>\n",
              "    </tr>\n",
              "    <tr>\n",
              "      <th>Pokémon Collection</th>\n",
              "      <td>20</td>\n",
              "      <td>250.7204</td>\n",
              "      <td>50.144080</td>\n",
              "      <td>601.865958</td>\n",
              "      <td>66.873995</td>\n",
              "      <td>6.055000</td>\n",
              "      <td>4.374284</td>\n",
              "      <td>4.464976</td>\n",
              "      <td>71.100000</td>\n",
              "    </tr>\n",
              "    <tr>\n",
              "      <th>Godzilla (Showa) Collection</th>\n",
              "      <td>16</td>\n",
              "      <td>2.8100</td>\n",
              "      <td>0.562000</td>\n",
              "      <td>0.000000</td>\n",
              "      <td>NaN</td>\n",
              "      <td>5.975000</td>\n",
              "      <td>3.422842</td>\n",
              "      <td>NaN</td>\n",
              "      <td>39.750000</td>\n",
              "    </tr>\n",
              "    <tr>\n",
              "      <th>Charlie Chan (Warner Oland) Collection</th>\n",
              "      <td>15</td>\n",
              "      <td>0.0000</td>\n",
              "      <td>NaN</td>\n",
              "      <td>0.000000</td>\n",
              "      <td>NaN</td>\n",
              "      <td>6.658333</td>\n",
              "      <td>0.664986</td>\n",
              "      <td>NaN</td>\n",
              "      <td>6.866667</td>\n",
              "    </tr>\n",
              "    <tr>\n",
              "      <th>Dragon Ball Z (Movie) Collection</th>\n",
              "      <td>15</td>\n",
              "      <td>5.0000</td>\n",
              "      <td>5.000000</td>\n",
              "      <td>112.121192</td>\n",
              "      <td>56.060596</td>\n",
              "      <td>6.606667</td>\n",
              "      <td>6.183563</td>\n",
              "      <td>12.353638</td>\n",
              "      <td>133.333333</td>\n",
              "    </tr>\n",
              "    <tr>\n",
              "      <th>Uuno Turhapuro</th>\n",
              "      <td>15</td>\n",
              "      <td>0.0000</td>\n",
              "      <td>NaN</td>\n",
              "      <td>0.000000</td>\n",
              "      <td>NaN</td>\n",
              "      <td>5.526667</td>\n",
              "      <td>0.169261</td>\n",
              "      <td>NaN</td>\n",
              "      <td>3.866667</td>\n",
              "    </tr>\n",
              "    <tr>\n",
              "      <th>Monster High Collection</th>\n",
              "      <td>14</td>\n",
              "      <td>0.5000</td>\n",
              "      <td>0.500000</td>\n",
              "      <td>0.000000</td>\n",
              "      <td>NaN</td>\n",
              "      <td>6.485714</td>\n",
              "      <td>3.591922</td>\n",
              "      <td>NaN</td>\n",
              "      <td>12.571429</td>\n",
              "    </tr>\n",
              "    <tr>\n",
              "      <th>The Land Before Time Collection</th>\n",
              "      <td>14</td>\n",
              "      <td>12.3000</td>\n",
              "      <td>12.300000</td>\n",
              "      <td>84.460846</td>\n",
              "      <td>84.460846</td>\n",
              "      <td>6.164286</td>\n",
              "      <td>4.905620</td>\n",
              "      <td>6.866735</td>\n",
              "      <td>96.071429</td>\n",
              "    </tr>\n",
              "    <tr>\n",
              "      <th>George Carlin Comedy Collection</th>\n",
              "      <td>13</td>\n",
              "      <td>0.0000</td>\n",
              "      <td>NaN</td>\n",
              "      <td>0.000000</td>\n",
              "      <td>NaN</td>\n",
              "      <td>7.469231</td>\n",
              "      <td>1.296917</td>\n",
              "      <td>NaN</td>\n",
              "      <td>12.538462</td>\n",
              "    </tr>\n",
              "    <tr>\n",
              "      <th>Sharpe Collection</th>\n",
              "      <td>13</td>\n",
              "      <td>0.0000</td>\n",
              "      <td>NaN</td>\n",
              "      <td>0.000000</td>\n",
              "      <td>NaN</td>\n",
              "      <td>6.738462</td>\n",
              "      <td>1.709641</td>\n",
              "      <td>NaN</td>\n",
              "      <td>13.230769</td>\n",
              "    </tr>\n",
              "    <tr>\n",
              "      <th>Friday the 13th Collection</th>\n",
              "      <td>12</td>\n",
              "      <td>84.4000</td>\n",
              "      <td>7.033333</td>\n",
              "      <td>464.898544</td>\n",
              "      <td>38.741545</td>\n",
              "      <td>5.425000</td>\n",
              "      <td>9.760807</td>\n",
              "      <td>6.668557</td>\n",
              "      <td>326.583333</td>\n",
              "    </tr>\n",
              "    <tr>\n",
              "      <th>Johan Falk GSI Collection</th>\n",
              "      <td>12</td>\n",
              "      <td>0.0000</td>\n",
              "      <td>NaN</td>\n",
              "      <td>0.000000</td>\n",
              "      <td>NaN</td>\n",
              "      <td>6.500000</td>\n",
              "      <td>1.520858</td>\n",
              "      <td>NaN</td>\n",
              "      <td>9.250000</td>\n",
              "    </tr>\n",
              "    <tr>\n",
              "      <th>Sherlock Holmes (1939 series)</th>\n",
              "      <td>12</td>\n",
              "      <td>0.0000</td>\n",
              "      <td>NaN</td>\n",
              "      <td>0.000000</td>\n",
              "      <td>NaN</td>\n",
              "      <td>6.925000</td>\n",
              "      <td>2.876897</td>\n",
              "      <td>NaN</td>\n",
              "      <td>21.583333</td>\n",
              "    </tr>\n",
              "    <tr>\n",
              "      <th>The Amityville Horror Collection</th>\n",
              "      <td>12</td>\n",
              "      <td>21.0200</td>\n",
              "      <td>5.255000</td>\n",
              "      <td>213.347083</td>\n",
              "      <td>53.336771</td>\n",
              "      <td>4.358333</td>\n",
              "      <td>7.179849</td>\n",
              "      <td>5.686691</td>\n",
              "      <td>91.916667</td>\n",
              "    </tr>\n",
              "    <tr>\n",
              "      <th>An American Girl Collection</th>\n",
              "      <td>10</td>\n",
              "      <td>6.8000</td>\n",
              "      <td>6.800000</td>\n",
              "      <td>0.000000</td>\n",
              "      <td>NaN</td>\n",
              "      <td>5.250000</td>\n",
              "      <td>1.940739</td>\n",
              "      <td>NaN</td>\n",
              "      <td>8.700000</td>\n",
              "    </tr>\n",
              "  </tbody>\n",
              "</table>\n",
              "</div>"
            ],
            "text/plain": [
              "                                       title  ...   vote_count\n",
              "                                       count  ...         mean\n",
              "belongs_to_collection                         ...             \n",
              "The Bowery Boys                           29  ...     0.724138\n",
              "Totò Collection                           27  ...    18.037037\n",
              "James Bond Collection                     26  ...  1284.307692\n",
              "Zatôichi: The Blind Swordsman             26  ...    11.192308\n",
              "The Carry On Collection                   25  ...    21.040000\n",
              "Charlie Chan (Sidney Toler) Collection    21  ...     5.809524\n",
              "Pokémon Collection                        20  ...    71.100000\n",
              "Godzilla (Showa) Collection               16  ...    39.750000\n",
              "Charlie Chan (Warner Oland) Collection    15  ...     6.866667\n",
              "Dragon Ball Z (Movie) Collection          15  ...   133.333333\n",
              "Uuno Turhapuro                            15  ...     3.866667\n",
              "Monster High Collection                   14  ...    12.571429\n",
              "The Land Before Time Collection           14  ...    96.071429\n",
              "George Carlin Comedy Collection           13  ...    12.538462\n",
              "Sharpe Collection                         13  ...    13.230769\n",
              "Friday the 13th Collection                12  ...   326.583333\n",
              "Johan Falk GSI Collection                 12  ...     9.250000\n",
              "Sherlock Holmes (1939 series)             12  ...    21.583333\n",
              "The Amityville Horror Collection          12  ...    91.916667\n",
              "An American Girl Collection               10  ...     8.700000\n",
              "\n",
              "[20 rows x 9 columns]"
            ]
          },
          "metadata": {
            "tags": []
          },
          "execution_count": 31
        }
      ]
    },
    {
      "cell_type": "code",
      "metadata": {
        "colab": {
          "base_uri": "https://localhost:8080/",
          "height": 731
        },
        "id": "dD9At02lS-EJ",
        "outputId": "6b80be0e-7d31-4056-e77b-1c620190e327"
      },
      "source": [
        "franchise_df.nlargest(20, (\"revenue_musd\", \"mean\"))"
      ],
      "execution_count": null,
      "outputs": [
        {
          "output_type": "execute_result",
          "data": {
            "text/html": [
              "<div>\n",
              "<style scoped>\n",
              "    .dataframe tbody tr th:only-of-type {\n",
              "        vertical-align: middle;\n",
              "    }\n",
              "\n",
              "    .dataframe tbody tr th {\n",
              "        vertical-align: top;\n",
              "    }\n",
              "\n",
              "    .dataframe thead tr th {\n",
              "        text-align: left;\n",
              "    }\n",
              "\n",
              "    .dataframe thead tr:last-of-type th {\n",
              "        text-align: right;\n",
              "    }\n",
              "</style>\n",
              "<table border=\"1\" class=\"dataframe\">\n",
              "  <thead>\n",
              "    <tr>\n",
              "      <th></th>\n",
              "      <th>title</th>\n",
              "      <th colspan=\"2\" halign=\"left\">budget_musd</th>\n",
              "      <th colspan=\"2\" halign=\"left\">revenue_musd</th>\n",
              "      <th>vote_average</th>\n",
              "      <th>popularity</th>\n",
              "      <th>roi</th>\n",
              "      <th>vote_count</th>\n",
              "    </tr>\n",
              "    <tr>\n",
              "      <th></th>\n",
              "      <th>count</th>\n",
              "      <th>sum</th>\n",
              "      <th>mean</th>\n",
              "      <th>sum</th>\n",
              "      <th>mean</th>\n",
              "      <th>mean</th>\n",
              "      <th>mean</th>\n",
              "      <th>median</th>\n",
              "      <th>mean</th>\n",
              "    </tr>\n",
              "    <tr>\n",
              "      <th>belongs_to_collection</th>\n",
              "      <th></th>\n",
              "      <th></th>\n",
              "      <th></th>\n",
              "      <th></th>\n",
              "      <th></th>\n",
              "      <th></th>\n",
              "      <th></th>\n",
              "      <th></th>\n",
              "      <th></th>\n",
              "    </tr>\n",
              "  </thead>\n",
              "  <tbody>\n",
              "    <tr>\n",
              "      <th>Avatar Collection</th>\n",
              "      <td>1</td>\n",
              "      <td>237.00</td>\n",
              "      <td>237.000000</td>\n",
              "      <td>2787.965087</td>\n",
              "      <td>2787.965087</td>\n",
              "      <td>7.200000</td>\n",
              "      <td>185.070892</td>\n",
              "      <td>11.763566</td>\n",
              "      <td>12114.000000</td>\n",
              "    </tr>\n",
              "    <tr>\n",
              "      <th>The Avengers Collection</th>\n",
              "      <td>2</td>\n",
              "      <td>500.00</td>\n",
              "      <td>250.000000</td>\n",
              "      <td>2924.961604</td>\n",
              "      <td>1462.480802</td>\n",
              "      <td>7.350000</td>\n",
              "      <td>63.633534</td>\n",
              "      <td>5.963190</td>\n",
              "      <td>9454.000000</td>\n",
              "    </tr>\n",
              "    <tr>\n",
              "      <th>Frozen Collection</th>\n",
              "      <td>2</td>\n",
              "      <td>150.00</td>\n",
              "      <td>150.000000</td>\n",
              "      <td>1274.219009</td>\n",
              "      <td>1274.219009</td>\n",
              "      <td>7.100000</td>\n",
              "      <td>16.878788</td>\n",
              "      <td>8.494793</td>\n",
              "      <td>3035.000000</td>\n",
              "    </tr>\n",
              "    <tr>\n",
              "      <th>Finding Nemo Collection</th>\n",
              "      <td>2</td>\n",
              "      <td>294.00</td>\n",
              "      <td>147.000000</td>\n",
              "      <td>1968.906425</td>\n",
              "      <td>984.453213</td>\n",
              "      <td>7.200000</td>\n",
              "      <td>19.987735</td>\n",
              "      <td>7.573212</td>\n",
              "      <td>5312.500000</td>\n",
              "    </tr>\n",
              "    <tr>\n",
              "      <th>The Hobbit Collection</th>\n",
              "      <td>3</td>\n",
              "      <td>750.00</td>\n",
              "      <td>250.000000</td>\n",
              "      <td>2935.523356</td>\n",
              "      <td>978.507785</td>\n",
              "      <td>7.233333</td>\n",
              "      <td>25.205614</td>\n",
              "      <td>3.833600</td>\n",
              "      <td>5981.333333</td>\n",
              "    </tr>\n",
              "    <tr>\n",
              "      <th>The Lord of the Rings Collection</th>\n",
              "      <td>3</td>\n",
              "      <td>266.00</td>\n",
              "      <td>88.666667</td>\n",
              "      <td>2916.544743</td>\n",
              "      <td>972.181581</td>\n",
              "      <td>8.033333</td>\n",
              "      <td>30.272873</td>\n",
              "      <td>11.725157</td>\n",
              "      <td>8253.000000</td>\n",
              "    </tr>\n",
              "    <tr>\n",
              "      <th>Harry Potter Collection</th>\n",
              "      <td>8</td>\n",
              "      <td>1280.00</td>\n",
              "      <td>160.000000</td>\n",
              "      <td>7707.367425</td>\n",
              "      <td>963.420928</td>\n",
              "      <td>7.537500</td>\n",
              "      <td>26.253893</td>\n",
              "      <td>6.165086</td>\n",
              "      <td>5983.250000</td>\n",
              "    </tr>\n",
              "    <tr>\n",
              "      <th>Star Wars Collection</th>\n",
              "      <td>8</td>\n",
              "      <td>854.35</td>\n",
              "      <td>106.793750</td>\n",
              "      <td>7434.494790</td>\n",
              "      <td>929.311849</td>\n",
              "      <td>7.375000</td>\n",
              "      <td>23.410919</td>\n",
              "      <td>8.239637</td>\n",
              "      <td>5430.375000</td>\n",
              "    </tr>\n",
              "    <tr>\n",
              "      <th>Despicable Me Collection</th>\n",
              "      <td>6</td>\n",
              "      <td>299.00</td>\n",
              "      <td>74.750000</td>\n",
              "      <td>3691.070216</td>\n",
              "      <td>922.767554</td>\n",
              "      <td>6.783333</td>\n",
              "      <td>106.715961</td>\n",
              "      <td>12.761987</td>\n",
              "      <td>3041.333333</td>\n",
              "    </tr>\n",
              "    <tr>\n",
              "      <th>Pirates of the Caribbean Collection</th>\n",
              "      <td>5</td>\n",
              "      <td>1250.00</td>\n",
              "      <td>250.000000</td>\n",
              "      <td>4521.576826</td>\n",
              "      <td>904.315365</td>\n",
              "      <td>6.880000</td>\n",
              "      <td>53.972237</td>\n",
              "      <td>3.453009</td>\n",
              "      <td>5016.000000</td>\n",
              "    </tr>\n",
              "    <tr>\n",
              "      <th>The Secret Life of Pets Collection</th>\n",
              "      <td>1</td>\n",
              "      <td>75.00</td>\n",
              "      <td>75.000000</td>\n",
              "      <td>875.457937</td>\n",
              "      <td>875.457937</td>\n",
              "      <td>5.900000</td>\n",
              "      <td>11.013950</td>\n",
              "      <td>11.672772</td>\n",
              "      <td>3536.000000</td>\n",
              "    </tr>\n",
              "    <tr>\n",
              "      <th>Transformers Collection</th>\n",
              "      <td>5</td>\n",
              "      <td>965.00</td>\n",
              "      <td>193.000000</td>\n",
              "      <td>4366.101244</td>\n",
              "      <td>873.220249</td>\n",
              "      <td>6.140000</td>\n",
              "      <td>14.425077</td>\n",
              "      <td>5.197167</td>\n",
              "      <td>3046.400000</td>\n",
              "    </tr>\n",
              "    <tr>\n",
              "      <th>Spider-Man Collection</th>\n",
              "      <td>3</td>\n",
              "      <td>597.00</td>\n",
              "      <td>199.000000</td>\n",
              "      <td>2496.346518</td>\n",
              "      <td>832.115506</td>\n",
              "      <td>6.466667</td>\n",
              "      <td>22.620704</td>\n",
              "      <td>3.918832</td>\n",
              "      <td>4505.666667</td>\n",
              "    </tr>\n",
              "    <tr>\n",
              "      <th>The Dark Knight Collection</th>\n",
              "      <td>3</td>\n",
              "      <td>585.00</td>\n",
              "      <td>195.000000</td>\n",
              "      <td>2463.716216</td>\n",
              "      <td>821.238739</td>\n",
              "      <td>7.800000</td>\n",
              "      <td>57.418393</td>\n",
              "      <td>4.339756</td>\n",
              "      <td>9681.000000</td>\n",
              "    </tr>\n",
              "    <tr>\n",
              "      <th>Wonder Woman Collection</th>\n",
              "      <td>1</td>\n",
              "      <td>149.00</td>\n",
              "      <td>149.000000</td>\n",
              "      <td>820.580447</td>\n",
              "      <td>820.580447</td>\n",
              "      <td>7.200000</td>\n",
              "      <td>294.337037</td>\n",
              "      <td>5.507251</td>\n",
              "      <td>5025.000000</td>\n",
              "    </tr>\n",
              "    <tr>\n",
              "      <th>Guardians of the Galaxy Collection</th>\n",
              "      <td>2</td>\n",
              "      <td>370.00</td>\n",
              "      <td>185.000000</td>\n",
              "      <td>1636.744770</td>\n",
              "      <td>818.372385</td>\n",
              "      <td>7.750000</td>\n",
              "      <td>119.311296</td>\n",
              "      <td>4.433036</td>\n",
              "      <td>7436.000000</td>\n",
              "    </tr>\n",
              "    <tr>\n",
              "      <th>Fantastic Beasts Collection</th>\n",
              "      <td>1</td>\n",
              "      <td>180.00</td>\n",
              "      <td>180.000000</td>\n",
              "      <td>809.342332</td>\n",
              "      <td>809.342332</td>\n",
              "      <td>7.200000</td>\n",
              "      <td>41.051421</td>\n",
              "      <td>4.496346</td>\n",
              "      <td>5612.000000</td>\n",
              "    </tr>\n",
              "    <tr>\n",
              "      <th>Iron Man Collection</th>\n",
              "      <td>3</td>\n",
              "      <td>540.00</td>\n",
              "      <td>180.000000</td>\n",
              "      <td>2424.547547</td>\n",
              "      <td>808.182516</td>\n",
              "      <td>6.933333</td>\n",
              "      <td>21.625895</td>\n",
              "      <td>4.179816</td>\n",
              "      <td>8290.333333</td>\n",
              "    </tr>\n",
              "    <tr>\n",
              "      <th>The Lion King Collection</th>\n",
              "      <td>4</td>\n",
              "      <td>45.00</td>\n",
              "      <td>45.000000</td>\n",
              "      <td>788.241776</td>\n",
              "      <td>788.241776</td>\n",
              "      <td>6.750000</td>\n",
              "      <td>11.482656</td>\n",
              "      <td>17.516484</td>\n",
              "      <td>1827.500000</td>\n",
              "    </tr>\n",
              "    <tr>\n",
              "      <th>Deadpool Collection</th>\n",
              "      <td>1</td>\n",
              "      <td>58.00</td>\n",
              "      <td>58.000000</td>\n",
              "      <td>783.112979</td>\n",
              "      <td>783.112979</td>\n",
              "      <td>7.400000</td>\n",
              "      <td>187.860492</td>\n",
              "      <td>13.501948</td>\n",
              "      <td>11444.000000</td>\n",
              "    </tr>\n",
              "  </tbody>\n",
              "</table>\n",
              "</div>"
            ],
            "text/plain": [
              "                                    title budget_musd  ...        roi    vote_count\n",
              "                                    count         sum  ...     median          mean\n",
              "belongs_to_collection                                  ...                         \n",
              "Avatar Collection                       1      237.00  ...  11.763566  12114.000000\n",
              "The Avengers Collection                 2      500.00  ...   5.963190   9454.000000\n",
              "Frozen Collection                       2      150.00  ...   8.494793   3035.000000\n",
              "Finding Nemo Collection                 2      294.00  ...   7.573212   5312.500000\n",
              "The Hobbit Collection                   3      750.00  ...   3.833600   5981.333333\n",
              "The Lord of the Rings Collection        3      266.00  ...  11.725157   8253.000000\n",
              "Harry Potter Collection                 8     1280.00  ...   6.165086   5983.250000\n",
              "Star Wars Collection                    8      854.35  ...   8.239637   5430.375000\n",
              "Despicable Me Collection                6      299.00  ...  12.761987   3041.333333\n",
              "Pirates of the Caribbean Collection     5     1250.00  ...   3.453009   5016.000000\n",
              "The Secret Life of Pets Collection      1       75.00  ...  11.672772   3536.000000\n",
              "Transformers Collection                 5      965.00  ...   5.197167   3046.400000\n",
              "Spider-Man Collection                   3      597.00  ...   3.918832   4505.666667\n",
              "The Dark Knight Collection              3      585.00  ...   4.339756   9681.000000\n",
              "Wonder Woman Collection                 1      149.00  ...   5.507251   5025.000000\n",
              "Guardians of the Galaxy Collection      2      370.00  ...   4.433036   7436.000000\n",
              "Fantastic Beasts Collection             1      180.00  ...   4.496346   5612.000000\n",
              "Iron Man Collection                     3      540.00  ...   4.179816   8290.333333\n",
              "The Lion King Collection                4       45.00  ...  17.516484   1827.500000\n",
              "Deadpool Collection                     1       58.00  ...  13.501948  11444.000000\n",
              "\n",
              "[20 rows x 9 columns]"
            ]
          },
          "metadata": {
            "tags": []
          },
          "execution_count": 32
        }
      ]
    },
    {
      "cell_type": "code",
      "metadata": {
        "colab": {
          "base_uri": "https://localhost:8080/",
          "height": 731
        },
        "id": "IDA6XSIaT2CG",
        "outputId": "07d78970-7f4f-49b6-d27a-aafdf0dbba69"
      },
      "source": [
        "franchise_df.nlargest(20, (\"vote_average\", \"mean\"))"
      ],
      "execution_count": null,
      "outputs": [
        {
          "output_type": "execute_result",
          "data": {
            "text/html": [
              "<div>\n",
              "<style scoped>\n",
              "    .dataframe tbody tr th:only-of-type {\n",
              "        vertical-align: middle;\n",
              "    }\n",
              "\n",
              "    .dataframe tbody tr th {\n",
              "        vertical-align: top;\n",
              "    }\n",
              "\n",
              "    .dataframe thead tr th {\n",
              "        text-align: left;\n",
              "    }\n",
              "\n",
              "    .dataframe thead tr:last-of-type th {\n",
              "        text-align: right;\n",
              "    }\n",
              "</style>\n",
              "<table border=\"1\" class=\"dataframe\">\n",
              "  <thead>\n",
              "    <tr>\n",
              "      <th></th>\n",
              "      <th>title</th>\n",
              "      <th colspan=\"2\" halign=\"left\">budget_musd</th>\n",
              "      <th colspan=\"2\" halign=\"left\">revenue_musd</th>\n",
              "      <th>vote_average</th>\n",
              "      <th>popularity</th>\n",
              "      <th>roi</th>\n",
              "      <th>vote_count</th>\n",
              "    </tr>\n",
              "    <tr>\n",
              "      <th></th>\n",
              "      <th>count</th>\n",
              "      <th>sum</th>\n",
              "      <th>mean</th>\n",
              "      <th>sum</th>\n",
              "      <th>mean</th>\n",
              "      <th>mean</th>\n",
              "      <th>mean</th>\n",
              "      <th>median</th>\n",
              "      <th>mean</th>\n",
              "    </tr>\n",
              "    <tr>\n",
              "      <th>belongs_to_collection</th>\n",
              "      <th></th>\n",
              "      <th></th>\n",
              "      <th></th>\n",
              "      <th></th>\n",
              "      <th></th>\n",
              "      <th></th>\n",
              "      <th></th>\n",
              "      <th></th>\n",
              "      <th></th>\n",
              "    </tr>\n",
              "  </thead>\n",
              "  <tbody>\n",
              "    <tr>\n",
              "      <th>Argo Collection</th>\n",
              "      <td>1</td>\n",
              "      <td>0.0</td>\n",
              "      <td>NaN</td>\n",
              "      <td>0.000000</td>\n",
              "      <td>NaN</td>\n",
              "      <td>9.300000</td>\n",
              "      <td>0.499400</td>\n",
              "      <td>NaN</td>\n",
              "      <td>2.000000</td>\n",
              "    </tr>\n",
              "    <tr>\n",
              "      <th>Bloodfight</th>\n",
              "      <td>1</td>\n",
              "      <td>0.0</td>\n",
              "      <td>NaN</td>\n",
              "      <td>0.000000</td>\n",
              "      <td>NaN</td>\n",
              "      <td>9.000000</td>\n",
              "      <td>0.255977</td>\n",
              "      <td>NaN</td>\n",
              "      <td>1.000000</td>\n",
              "    </tr>\n",
              "    <tr>\n",
              "      <th>Dreileben</th>\n",
              "      <td>1</td>\n",
              "      <td>0.0</td>\n",
              "      <td>NaN</td>\n",
              "      <td>0.000000</td>\n",
              "      <td>NaN</td>\n",
              "      <td>9.000000</td>\n",
              "      <td>0.085509</td>\n",
              "      <td>NaN</td>\n",
              "      <td>2.000000</td>\n",
              "    </tr>\n",
              "    <tr>\n",
              "      <th>Kenji Misumi's Trilogy of the Sword</th>\n",
              "      <td>1</td>\n",
              "      <td>0.0</td>\n",
              "      <td>NaN</td>\n",
              "      <td>0.000000</td>\n",
              "      <td>NaN</td>\n",
              "      <td>9.000000</td>\n",
              "      <td>0.661920</td>\n",
              "      <td>NaN</td>\n",
              "      <td>2.000000</td>\n",
              "    </tr>\n",
              "    <tr>\n",
              "      <th>Алиса в стране чудес (Коллекция)</th>\n",
              "      <td>1</td>\n",
              "      <td>0.0</td>\n",
              "      <td>NaN</td>\n",
              "      <td>0.000000</td>\n",
              "      <td>NaN</td>\n",
              "      <td>8.700000</td>\n",
              "      <td>0.320034</td>\n",
              "      <td>NaN</td>\n",
              "      <td>6.000000</td>\n",
              "    </tr>\n",
              "    <tr>\n",
              "      <th>We Were Here</th>\n",
              "      <td>2</td>\n",
              "      <td>0.0</td>\n",
              "      <td>NaN</td>\n",
              "      <td>0.000000</td>\n",
              "      <td>NaN</td>\n",
              "      <td>8.650000</td>\n",
              "      <td>1.195456</td>\n",
              "      <td>NaN</td>\n",
              "      <td>4.000000</td>\n",
              "    </tr>\n",
              "    <tr>\n",
              "      <th>Kizumonogatari</th>\n",
              "      <td>3</td>\n",
              "      <td>0.0</td>\n",
              "      <td>NaN</td>\n",
              "      <td>0.000000</td>\n",
              "      <td>NaN</td>\n",
              "      <td>8.633333</td>\n",
              "      <td>2.754726</td>\n",
              "      <td>NaN</td>\n",
              "      <td>10.666667</td>\n",
              "    </tr>\n",
              "    <tr>\n",
              "      <th>Glass Tiger collection</th>\n",
              "      <td>1</td>\n",
              "      <td>0.0</td>\n",
              "      <td>NaN</td>\n",
              "      <td>0.000000</td>\n",
              "      <td>NaN</td>\n",
              "      <td>8.500000</td>\n",
              "      <td>0.808418</td>\n",
              "      <td>NaN</td>\n",
              "      <td>12.000000</td>\n",
              "    </tr>\n",
              "    <tr>\n",
              "      <th>OSS 117 The Original Saga</th>\n",
              "      <td>1</td>\n",
              "      <td>0.0</td>\n",
              "      <td>NaN</td>\n",
              "      <td>0.000000</td>\n",
              "      <td>NaN</td>\n",
              "      <td>8.500000</td>\n",
              "      <td>0.169425</td>\n",
              "      <td>NaN</td>\n",
              "      <td>2.000000</td>\n",
              "    </tr>\n",
              "    <tr>\n",
              "      <th>Spirits' Homecoming Collection</th>\n",
              "      <td>1</td>\n",
              "      <td>0.0</td>\n",
              "      <td>NaN</td>\n",
              "      <td>0.000000</td>\n",
              "      <td>NaN</td>\n",
              "      <td>8.500000</td>\n",
              "      <td>1.264456</td>\n",
              "      <td>NaN</td>\n",
              "      <td>5.000000</td>\n",
              "    </tr>\n",
              "    <tr>\n",
              "      <th>The Nigger Charley Collection</th>\n",
              "      <td>1</td>\n",
              "      <td>0.0</td>\n",
              "      <td>NaN</td>\n",
              "      <td>0.000000</td>\n",
              "      <td>NaN</td>\n",
              "      <td>8.500000</td>\n",
              "      <td>0.129052</td>\n",
              "      <td>NaN</td>\n",
              "      <td>2.000000</td>\n",
              "    </tr>\n",
              "    <tr>\n",
              "      <th>The Human Condition</th>\n",
              "      <td>3</td>\n",
              "      <td>0.0</td>\n",
              "      <td>NaN</td>\n",
              "      <td>0.000000</td>\n",
              "      <td>NaN</td>\n",
              "      <td>8.466667</td>\n",
              "      <td>2.333018</td>\n",
              "      <td>NaN</td>\n",
              "      <td>33.666667</td>\n",
              "    </tr>\n",
              "    <tr>\n",
              "      <th>Little Forest Collection</th>\n",
              "      <td>2</td>\n",
              "      <td>0.0</td>\n",
              "      <td>NaN</td>\n",
              "      <td>0.000000</td>\n",
              "      <td>NaN</td>\n",
              "      <td>8.350000</td>\n",
              "      <td>1.731765</td>\n",
              "      <td>NaN</td>\n",
              "      <td>15.500000</td>\n",
              "    </tr>\n",
              "    <tr>\n",
              "      <th>Psy Collection</th>\n",
              "      <td>2</td>\n",
              "      <td>0.0</td>\n",
              "      <td>NaN</td>\n",
              "      <td>0.000000</td>\n",
              "      <td>NaN</td>\n",
              "      <td>8.200000</td>\n",
              "      <td>0.652842</td>\n",
              "      <td>NaN</td>\n",
              "      <td>7.500000</td>\n",
              "    </tr>\n",
              "    <tr>\n",
              "      <th>Kiler Collection</th>\n",
              "      <td>2</td>\n",
              "      <td>0.0</td>\n",
              "      <td>NaN</td>\n",
              "      <td>0.000000</td>\n",
              "      <td>NaN</td>\n",
              "      <td>8.100000</td>\n",
              "      <td>1.270833</td>\n",
              "      <td>NaN</td>\n",
              "      <td>14.000000</td>\n",
              "    </tr>\n",
              "    <tr>\n",
              "      <th>The Lord of the Rings Collection</th>\n",
              "      <td>3</td>\n",
              "      <td>266.0</td>\n",
              "      <td>88.666667</td>\n",
              "      <td>2916.544743</td>\n",
              "      <td>972.181581</td>\n",
              "      <td>8.033333</td>\n",
              "      <td>30.272873</td>\n",
              "      <td>11.725157</td>\n",
              "      <td>8253.000000</td>\n",
              "    </tr>\n",
              "    <tr>\n",
              "      <th>In the Vineyard Collection</th>\n",
              "      <td>1</td>\n",
              "      <td>0.0</td>\n",
              "      <td>NaN</td>\n",
              "      <td>0.000000</td>\n",
              "      <td>NaN</td>\n",
              "      <td>8.000000</td>\n",
              "      <td>0.519491</td>\n",
              "      <td>NaN</td>\n",
              "      <td>4.000000</td>\n",
              "    </tr>\n",
              "    <tr>\n",
              "      <th>Macskafogó gyűjtemény</th>\n",
              "      <td>1</td>\n",
              "      <td>0.0</td>\n",
              "      <td>NaN</td>\n",
              "      <td>0.000000</td>\n",
              "      <td>NaN</td>\n",
              "      <td>8.000000</td>\n",
              "      <td>1.838370</td>\n",
              "      <td>NaN</td>\n",
              "      <td>20.000000</td>\n",
              "    </tr>\n",
              "    <tr>\n",
              "      <th>The Apu Collection</th>\n",
              "      <td>3</td>\n",
              "      <td>0.0</td>\n",
              "      <td>NaN</td>\n",
              "      <td>0.722579</td>\n",
              "      <td>0.240860</td>\n",
              "      <td>8.000000</td>\n",
              "      <td>3.027675</td>\n",
              "      <td>NaN</td>\n",
              "      <td>49.000000</td>\n",
              "    </tr>\n",
              "    <tr>\n",
              "      <th>The South Shaolin Master Collection</th>\n",
              "      <td>1</td>\n",
              "      <td>0.0</td>\n",
              "      <td>NaN</td>\n",
              "      <td>0.000000</td>\n",
              "      <td>NaN</td>\n",
              "      <td>8.000000</td>\n",
              "      <td>0.669701</td>\n",
              "      <td>NaN</td>\n",
              "      <td>1.000000</td>\n",
              "    </tr>\n",
              "  </tbody>\n",
              "</table>\n",
              "</div>"
            ],
            "text/plain": [
              "                                    title budget_musd  ...        roi   vote_count\n",
              "                                    count         sum  ...     median         mean\n",
              "belongs_to_collection                                  ...                        \n",
              "Argo Collection                         1         0.0  ...        NaN     2.000000\n",
              "Bloodfight                              1         0.0  ...        NaN     1.000000\n",
              "Dreileben                               1         0.0  ...        NaN     2.000000\n",
              "Kenji Misumi's Trilogy of the Sword     1         0.0  ...        NaN     2.000000\n",
              "Алиса в стране чудес (Коллекция)        1         0.0  ...        NaN     6.000000\n",
              "We Were Here                            2         0.0  ...        NaN     4.000000\n",
              "Kizumonogatari                          3         0.0  ...        NaN    10.666667\n",
              "Glass Tiger collection                  1         0.0  ...        NaN    12.000000\n",
              "OSS 117 The Original Saga               1         0.0  ...        NaN     2.000000\n",
              "Spirits' Homecoming Collection          1         0.0  ...        NaN     5.000000\n",
              "The Nigger Charley Collection           1         0.0  ...        NaN     2.000000\n",
              "The Human Condition                     3         0.0  ...        NaN    33.666667\n",
              "Little Forest Collection                2         0.0  ...        NaN    15.500000\n",
              "Psy Collection                          2         0.0  ...        NaN     7.500000\n",
              "Kiler Collection                        2         0.0  ...        NaN    14.000000\n",
              "The Lord of the Rings Collection        3       266.0  ...  11.725157  8253.000000\n",
              "In the Vineyard Collection              1         0.0  ...        NaN     4.000000\n",
              "Macskafogó gyűjtemény                   1         0.0  ...        NaN    20.000000\n",
              "The Apu Collection                      3         0.0  ...        NaN    49.000000\n",
              "The South Shaolin Master Collection     1         0.0  ...        NaN     1.000000\n",
              "\n",
              "[20 rows x 9 columns]"
            ]
          },
          "metadata": {
            "tags": []
          },
          "execution_count": 33
        }
      ]
    },
    {
      "cell_type": "markdown",
      "metadata": {
        "id": "6zabhfyb2N93"
      },
      "source": [
        "## Most Successful Directors"
      ]
    },
    {
      "cell_type": "markdown",
      "metadata": {
        "id": "A8ganFaT2N94"
      },
      "source": [
        "6. __Find__ the __most successful Directors__ in terms of"
      ]
    },
    {
      "cell_type": "markdown",
      "metadata": {
        "id": "UDZYTyIP2N94"
      },
      "source": [
        "- __total number of movies__\n",
        "- __total revenue__\n",
        "- __mean rating__"
      ]
    },
    {
      "cell_type": "code",
      "metadata": {
        "id": "TZEPueQv2N94",
        "colab": {
          "base_uri": "https://localhost:8080/"
        },
        "outputId": "874f4040-427a-4f2a-f49a-e125666b0dcb"
      },
      "source": [
        "movie_df.director.value_counts()"
      ],
      "execution_count": null,
      "outputs": [
        {
          "output_type": "execute_result",
          "data": {
            "text/plain": [
              "John Ford             66\n",
              "Michael Curtiz        65\n",
              "Werner Herzog         54\n",
              "Alfred Hitchcock      53\n",
              "Georges Méliès        49\n",
              "                      ..\n",
              "Tim Usborne            1\n",
              "Çağatay Tosun          1\n",
              "Brandon Cronenberg     1\n",
              "Neema Barnette         1\n",
              "Michael Kloft          1\n",
              "Name: director, Length: 17349, dtype: int64"
            ]
          },
          "metadata": {
            "tags": []
          },
          "execution_count": 34
        }
      ]
    },
    {
      "cell_type": "code",
      "metadata": {
        "colab": {
          "base_uri": "https://localhost:8080/",
          "height": 731
        },
        "id": "ufUZL3GHU4mc",
        "outputId": "dd548de4-6417-41de-fa5e-24a6dc3951c3"
      },
      "source": [
        "director_df = movie_df.groupby('director').agg({\"title\": \"count\", \"revenue_musd\": [\"sum\", \"mean\"],\n",
        "                                                      \"vote_average\": \"mean\", \"vote_count\": [\"sum\", \"mean\"]})\n",
        "director_df.nlargest(20, (\"title\", \"count\"))"
      ],
      "execution_count": null,
      "outputs": [
        {
          "output_type": "execute_result",
          "data": {
            "text/html": [
              "<div>\n",
              "<style scoped>\n",
              "    .dataframe tbody tr th:only-of-type {\n",
              "        vertical-align: middle;\n",
              "    }\n",
              "\n",
              "    .dataframe tbody tr th {\n",
              "        vertical-align: top;\n",
              "    }\n",
              "\n",
              "    .dataframe thead tr th {\n",
              "        text-align: left;\n",
              "    }\n",
              "\n",
              "    .dataframe thead tr:last-of-type th {\n",
              "        text-align: right;\n",
              "    }\n",
              "</style>\n",
              "<table border=\"1\" class=\"dataframe\">\n",
              "  <thead>\n",
              "    <tr>\n",
              "      <th></th>\n",
              "      <th>title</th>\n",
              "      <th colspan=\"2\" halign=\"left\">revenue_musd</th>\n",
              "      <th>vote_average</th>\n",
              "      <th colspan=\"2\" halign=\"left\">vote_count</th>\n",
              "    </tr>\n",
              "    <tr>\n",
              "      <th></th>\n",
              "      <th>count</th>\n",
              "      <th>sum</th>\n",
              "      <th>mean</th>\n",
              "      <th>mean</th>\n",
              "      <th>sum</th>\n",
              "      <th>mean</th>\n",
              "    </tr>\n",
              "    <tr>\n",
              "      <th>director</th>\n",
              "      <th></th>\n",
              "      <th></th>\n",
              "      <th></th>\n",
              "      <th></th>\n",
              "      <th></th>\n",
              "      <th></th>\n",
              "    </tr>\n",
              "  </thead>\n",
              "  <tbody>\n",
              "    <tr>\n",
              "      <th>John Ford</th>\n",
              "      <td>66</td>\n",
              "      <td>85.170757</td>\n",
              "      <td>8.517076</td>\n",
              "      <td>6.381818</td>\n",
              "      <td>2210.0</td>\n",
              "      <td>33.484848</td>\n",
              "    </tr>\n",
              "    <tr>\n",
              "      <th>Michael Curtiz</th>\n",
              "      <td>65</td>\n",
              "      <td>37.817500</td>\n",
              "      <td>7.563500</td>\n",
              "      <td>5.998246</td>\n",
              "      <td>2476.0</td>\n",
              "      <td>38.092308</td>\n",
              "    </tr>\n",
              "    <tr>\n",
              "      <th>Werner Herzog</th>\n",
              "      <td>54</td>\n",
              "      <td>24.572580</td>\n",
              "      <td>6.143145</td>\n",
              "      <td>6.805556</td>\n",
              "      <td>2516.0</td>\n",
              "      <td>46.592593</td>\n",
              "    </tr>\n",
              "    <tr>\n",
              "      <th>Alfred Hitchcock</th>\n",
              "      <td>53</td>\n",
              "      <td>250.107584</td>\n",
              "      <td>11.909885</td>\n",
              "      <td>6.639623</td>\n",
              "      <td>12772.0</td>\n",
              "      <td>240.981132</td>\n",
              "    </tr>\n",
              "    <tr>\n",
              "      <th>Georges Méliès</th>\n",
              "      <td>49</td>\n",
              "      <td>0.000000</td>\n",
              "      <td>NaN</td>\n",
              "      <td>5.934694</td>\n",
              "      <td>826.0</td>\n",
              "      <td>16.857143</td>\n",
              "    </tr>\n",
              "    <tr>\n",
              "      <th>Woody Allen</th>\n",
              "      <td>49</td>\n",
              "      <td>993.970588</td>\n",
              "      <td>36.813725</td>\n",
              "      <td>6.691837</td>\n",
              "      <td>15512.0</td>\n",
              "      <td>316.571429</td>\n",
              "    </tr>\n",
              "    <tr>\n",
              "      <th>Jean-Luc Godard</th>\n",
              "      <td>46</td>\n",
              "      <td>0.867433</td>\n",
              "      <td>0.144572</td>\n",
              "      <td>6.804348</td>\n",
              "      <td>1478.0</td>\n",
              "      <td>32.130435</td>\n",
              "    </tr>\n",
              "    <tr>\n",
              "      <th>Sidney Lumet</th>\n",
              "      <td>46</td>\n",
              "      <td>294.522734</td>\n",
              "      <td>22.655595</td>\n",
              "      <td>6.576744</td>\n",
              "      <td>5287.0</td>\n",
              "      <td>114.934783</td>\n",
              "    </tr>\n",
              "    <tr>\n",
              "      <th>Charlie Chaplin</th>\n",
              "      <td>44</td>\n",
              "      <td>26.519181</td>\n",
              "      <td>4.419863</td>\n",
              "      <td>6.540909</td>\n",
              "      <td>3748.0</td>\n",
              "      <td>85.181818</td>\n",
              "    </tr>\n",
              "    <tr>\n",
              "      <th>Raoul Walsh</th>\n",
              "      <td>43</td>\n",
              "      <td>1.213880</td>\n",
              "      <td>1.213880</td>\n",
              "      <td>6.004762</td>\n",
              "      <td>583.0</td>\n",
              "      <td>13.558140</td>\n",
              "    </tr>\n",
              "    <tr>\n",
              "      <th>William A. Wellman</th>\n",
              "      <td>42</td>\n",
              "      <td>0.000000</td>\n",
              "      <td>NaN</td>\n",
              "      <td>5.957895</td>\n",
              "      <td>524.0</td>\n",
              "      <td>12.476190</td>\n",
              "    </tr>\n",
              "    <tr>\n",
              "      <th>Henry Hathaway</th>\n",
              "      <td>41</td>\n",
              "      <td>24.950000</td>\n",
              "      <td>8.316667</td>\n",
              "      <td>5.889744</td>\n",
              "      <td>728.0</td>\n",
              "      <td>17.756098</td>\n",
              "    </tr>\n",
              "    <tr>\n",
              "      <th>Richard Thorpe</th>\n",
              "      <td>40</td>\n",
              "      <td>0.000000</td>\n",
              "      <td>NaN</td>\n",
              "      <td>5.897222</td>\n",
              "      <td>274.0</td>\n",
              "      <td>6.850000</td>\n",
              "    </tr>\n",
              "    <tr>\n",
              "      <th>Ingmar Bergman</th>\n",
              "      <td>39</td>\n",
              "      <td>11.501340</td>\n",
              "      <td>5.750670</td>\n",
              "      <td>7.120513</td>\n",
              "      <td>2601.0</td>\n",
              "      <td>66.692308</td>\n",
              "    </tr>\n",
              "    <tr>\n",
              "      <th>Martin Scorsese</th>\n",
              "      <td>39</td>\n",
              "      <td>1990.982842</td>\n",
              "      <td>104.788571</td>\n",
              "      <td>7.218421</td>\n",
              "      <td>35541.0</td>\n",
              "      <td>911.307692</td>\n",
              "    </tr>\n",
              "    <tr>\n",
              "      <th>Fritz Lang</th>\n",
              "      <td>38</td>\n",
              "      <td>3.598808</td>\n",
              "      <td>1.799404</td>\n",
              "      <td>6.615789</td>\n",
              "      <td>1971.0</td>\n",
              "      <td>51.868421</td>\n",
              "    </tr>\n",
              "    <tr>\n",
              "      <th>George Cukor</th>\n",
              "      <td>38</td>\n",
              "      <td>74.340731</td>\n",
              "      <td>37.170366</td>\n",
              "      <td>6.154054</td>\n",
              "      <td>1145.0</td>\n",
              "      <td>30.131579</td>\n",
              "    </tr>\n",
              "    <tr>\n",
              "      <th>John Huston</th>\n",
              "      <td>38</td>\n",
              "      <td>199.571673</td>\n",
              "      <td>19.957167</td>\n",
              "      <td>6.534211</td>\n",
              "      <td>2552.0</td>\n",
              "      <td>67.157895</td>\n",
              "    </tr>\n",
              "    <tr>\n",
              "      <th>Mervyn LeRoy</th>\n",
              "      <td>37</td>\n",
              "      <td>30.000000</td>\n",
              "      <td>30.000000</td>\n",
              "      <td>6.300000</td>\n",
              "      <td>550.0</td>\n",
              "      <td>14.864865</td>\n",
              "    </tr>\n",
              "    <tr>\n",
              "      <th>Robert Altman</th>\n",
              "      <td>37</td>\n",
              "      <td>222.513906</td>\n",
              "      <td>27.814238</td>\n",
              "      <td>5.861111</td>\n",
              "      <td>1788.0</td>\n",
              "      <td>48.324324</td>\n",
              "    </tr>\n",
              "  </tbody>\n",
              "</table>\n",
              "</div>"
            ],
            "text/plain": [
              "                   title revenue_musd  ... vote_count            \n",
              "                   count          sum  ...        sum        mean\n",
              "director                               ...                       \n",
              "John Ford             66    85.170757  ...     2210.0   33.484848\n",
              "Michael Curtiz        65    37.817500  ...     2476.0   38.092308\n",
              "Werner Herzog         54    24.572580  ...     2516.0   46.592593\n",
              "Alfred Hitchcock      53   250.107584  ...    12772.0  240.981132\n",
              "Georges Méliès        49     0.000000  ...      826.0   16.857143\n",
              "Woody Allen           49   993.970588  ...    15512.0  316.571429\n",
              "Jean-Luc Godard       46     0.867433  ...     1478.0   32.130435\n",
              "Sidney Lumet          46   294.522734  ...     5287.0  114.934783\n",
              "Charlie Chaplin       44    26.519181  ...     3748.0   85.181818\n",
              "Raoul Walsh           43     1.213880  ...      583.0   13.558140\n",
              "William A. Wellman    42     0.000000  ...      524.0   12.476190\n",
              "Henry Hathaway        41    24.950000  ...      728.0   17.756098\n",
              "Richard Thorpe        40     0.000000  ...      274.0    6.850000\n",
              "Ingmar Bergman        39    11.501340  ...     2601.0   66.692308\n",
              "Martin Scorsese       39  1990.982842  ...    35541.0  911.307692\n",
              "Fritz Lang            38     3.598808  ...     1971.0   51.868421\n",
              "George Cukor          38    74.340731  ...     1145.0   30.131579\n",
              "John Huston           38   199.571673  ...     2552.0   67.157895\n",
              "Mervyn LeRoy          37    30.000000  ...      550.0   14.864865\n",
              "Robert Altman         37   222.513906  ...     1788.0   48.324324\n",
              "\n",
              "[20 rows x 6 columns]"
            ]
          },
          "metadata": {
            "tags": []
          },
          "execution_count": 35
        }
      ]
    },
    {
      "cell_type": "code",
      "metadata": {
        "colab": {
          "base_uri": "https://localhost:8080/",
          "height": 639
        },
        "id": "h2fEgeZ0WVV-",
        "outputId": "5ffe96cc-0159-4447-9276-959e8124fbf1"
      },
      "source": [
        "plt.figure(figsize = (12, 8))\n",
        "movie_df.director.value_counts().head(20).plot(kind='bar', fontsize = 15)\n",
        "plt.title(\"Most Active Directors\",fontsize = 20)\n",
        "plt.ylabel(\"Number of Movies\", fontsize = 15)\n",
        "plt.show()"
      ],
      "execution_count": null,
      "outputs": [
        {
          "output_type": "display_data",
          "data": {
            "image/png": "[encoded data removed]",
            "text/plain": [
              "<Figure size 864x576 with 1 Axes>"
            ]
          },
          "metadata": {
            "tags": [],
            "needs_background": "light"
          }
        }
      ]
    },
    {
      "cell_type": "code",
      "metadata": {
        "colab": {
          "base_uri": "https://localhost:8080/",
          "height": 731
        },
        "id": "iz1jgNgeW8Il",
        "outputId": "0fb28524-2723-4070-bd07-b067c0169579"
      },
      "source": [
        "director_df.nlargest(20, (\"revenue_musd\", \"sum\"))"
      ],
      "execution_count": null,
      "outputs": [
        {
          "output_type": "execute_result",
          "data": {
            "text/html": [
              "<div>\n",
              "<style scoped>\n",
              "    .dataframe tbody tr th:only-of-type {\n",
              "        vertical-align: middle;\n",
              "    }\n",
              "\n",
              "    .dataframe tbody tr th {\n",
              "        vertical-align: top;\n",
              "    }\n",
              "\n",
              "    .dataframe thead tr th {\n",
              "        text-align: left;\n",
              "    }\n",
              "\n",
              "    .dataframe thead tr:last-of-type th {\n",
              "        text-align: right;\n",
              "    }\n",
              "</style>\n",
              "<table border=\"1\" class=\"dataframe\">\n",
              "  <thead>\n",
              "    <tr>\n",
              "      <th></th>\n",
              "      <th>title</th>\n",
              "      <th colspan=\"2\" halign=\"left\">revenue_musd</th>\n",
              "      <th>vote_average</th>\n",
              "      <th colspan=\"2\" halign=\"left\">vote_count</th>\n",
              "    </tr>\n",
              "    <tr>\n",
              "      <th></th>\n",
              "      <th>count</th>\n",
              "      <th>sum</th>\n",
              "      <th>mean</th>\n",
              "      <th>mean</th>\n",
              "      <th>sum</th>\n",
              "      <th>mean</th>\n",
              "    </tr>\n",
              "    <tr>\n",
              "      <th>director</th>\n",
              "      <th></th>\n",
              "      <th></th>\n",
              "      <th></th>\n",
              "      <th></th>\n",
              "      <th></th>\n",
              "      <th></th>\n",
              "    </tr>\n",
              "  </thead>\n",
              "  <tbody>\n",
              "    <tr>\n",
              "      <th>Steven Spielberg</th>\n",
              "      <td>33</td>\n",
              "      <td>9256.621422</td>\n",
              "      <td>308.554047</td>\n",
              "      <td>6.893939</td>\n",
              "      <td>62266.0</td>\n",
              "      <td>1886.848485</td>\n",
              "    </tr>\n",
              "    <tr>\n",
              "      <th>Peter Jackson</th>\n",
              "      <td>13</td>\n",
              "      <td>6528.244659</td>\n",
              "      <td>593.476787</td>\n",
              "      <td>7.138462</td>\n",
              "      <td>47571.0</td>\n",
              "      <td>3659.307692</td>\n",
              "    </tr>\n",
              "    <tr>\n",
              "      <th>Michael Bay</th>\n",
              "      <td>13</td>\n",
              "      <td>6437.466781</td>\n",
              "      <td>495.189752</td>\n",
              "      <td>6.392308</td>\n",
              "      <td>28767.0</td>\n",
              "      <td>2212.846154</td>\n",
              "    </tr>\n",
              "    <tr>\n",
              "      <th>James Cameron</th>\n",
              "      <td>11</td>\n",
              "      <td>5900.610310</td>\n",
              "      <td>737.576289</td>\n",
              "      <td>6.927273</td>\n",
              "      <td>33736.0</td>\n",
              "      <td>3066.909091</td>\n",
              "    </tr>\n",
              "    <tr>\n",
              "      <th>David Yates</th>\n",
              "      <td>9</td>\n",
              "      <td>5334.563196</td>\n",
              "      <td>889.093866</td>\n",
              "      <td>6.700000</td>\n",
              "      <td>31056.0</td>\n",
              "      <td>3450.666667</td>\n",
              "    </tr>\n",
              "    <tr>\n",
              "      <th>Christopher Nolan</th>\n",
              "      <td>11</td>\n",
              "      <td>4747.408665</td>\n",
              "      <td>474.740866</td>\n",
              "      <td>7.618182</td>\n",
              "      <td>67344.0</td>\n",
              "      <td>6122.181818</td>\n",
              "    </tr>\n",
              "    <tr>\n",
              "      <th>Robert Zemeckis</th>\n",
              "      <td>19</td>\n",
              "      <td>4138.233542</td>\n",
              "      <td>243.425502</td>\n",
              "      <td>6.794737</td>\n",
              "      <td>37666.0</td>\n",
              "      <td>1982.421053</td>\n",
              "    </tr>\n",
              "    <tr>\n",
              "      <th>Tim Burton</th>\n",
              "      <td>21</td>\n",
              "      <td>4032.916124</td>\n",
              "      <td>224.050896</td>\n",
              "      <td>6.733333</td>\n",
              "      <td>36922.0</td>\n",
              "      <td>1758.190476</td>\n",
              "    </tr>\n",
              "    <tr>\n",
              "      <th>Ridley Scott</th>\n",
              "      <td>24</td>\n",
              "      <td>3917.529240</td>\n",
              "      <td>170.327358</td>\n",
              "      <td>6.604167</td>\n",
              "      <td>43083.0</td>\n",
              "      <td>1795.125000</td>\n",
              "    </tr>\n",
              "    <tr>\n",
              "      <th>Chris Columbus</th>\n",
              "      <td>15</td>\n",
              "      <td>3866.836869</td>\n",
              "      <td>297.448990</td>\n",
              "      <td>6.440000</td>\n",
              "      <td>26413.0</td>\n",
              "      <td>1760.866667</td>\n",
              "    </tr>\n",
              "    <tr>\n",
              "      <th>Roland Emmerich</th>\n",
              "      <td>16</td>\n",
              "      <td>3798.402596</td>\n",
              "      <td>345.309327</td>\n",
              "      <td>5.750000</td>\n",
              "      <td>20085.0</td>\n",
              "      <td>1255.312500</td>\n",
              "    </tr>\n",
              "    <tr>\n",
              "      <th>Ron Howard</th>\n",
              "      <td>26</td>\n",
              "      <td>3714.152341</td>\n",
              "      <td>195.481702</td>\n",
              "      <td>6.480769</td>\n",
              "      <td>21345.0</td>\n",
              "      <td>820.961538</td>\n",
              "    </tr>\n",
              "    <tr>\n",
              "      <th>J.J. Abrams</th>\n",
              "      <td>5</td>\n",
              "      <td>3579.215315</td>\n",
              "      <td>715.843063</td>\n",
              "      <td>7.080000</td>\n",
              "      <td>21604.0</td>\n",
              "      <td>4320.800000</td>\n",
              "    </tr>\n",
              "    <tr>\n",
              "      <th>Gore Verbinski</th>\n",
              "      <td>10</td>\n",
              "      <td>3575.339236</td>\n",
              "      <td>357.533924</td>\n",
              "      <td>6.440000</td>\n",
              "      <td>25354.0</td>\n",
              "      <td>2535.400000</td>\n",
              "    </tr>\n",
              "    <tr>\n",
              "      <th>George Lucas</th>\n",
              "      <td>7</td>\n",
              "      <td>3341.550893</td>\n",
              "      <td>556.925149</td>\n",
              "      <td>6.814286</td>\n",
              "      <td>20190.0</td>\n",
              "      <td>2884.285714</td>\n",
              "    </tr>\n",
              "    <tr>\n",
              "      <th>Sam Raimi</th>\n",
              "      <td>15</td>\n",
              "      <td>3193.788606</td>\n",
              "      <td>319.378861</td>\n",
              "      <td>6.466667</td>\n",
              "      <td>21956.0</td>\n",
              "      <td>1463.733333</td>\n",
              "    </tr>\n",
              "    <tr>\n",
              "      <th>Francis Lawrence</th>\n",
              "      <td>6</td>\n",
              "      <td>3183.341910</td>\n",
              "      <td>530.556985</td>\n",
              "      <td>6.800000</td>\n",
              "      <td>24233.0</td>\n",
              "      <td>4038.833333</td>\n",
              "    </tr>\n",
              "    <tr>\n",
              "      <th>Clint Eastwood</th>\n",
              "      <td>35</td>\n",
              "      <td>3100.675162</td>\n",
              "      <td>106.919833</td>\n",
              "      <td>6.685714</td>\n",
              "      <td>24001.0</td>\n",
              "      <td>685.742857</td>\n",
              "    </tr>\n",
              "    <tr>\n",
              "      <th>Bill Condon</th>\n",
              "      <td>10</td>\n",
              "      <td>3017.298095</td>\n",
              "      <td>377.162262</td>\n",
              "      <td>6.211111</td>\n",
              "      <td>12416.0</td>\n",
              "      <td>1241.600000</td>\n",
              "    </tr>\n",
              "    <tr>\n",
              "      <th>Joss Whedon</th>\n",
              "      <td>5</td>\n",
              "      <td>2963.831071</td>\n",
              "      <td>740.957768</td>\n",
              "      <td>7.400000</td>\n",
              "      <td>20548.0</td>\n",
              "      <td>4109.600000</td>\n",
              "    </tr>\n",
              "  </tbody>\n",
              "</table>\n",
              "</div>"
            ],
            "text/plain": [
              "                  title revenue_musd  ... vote_count             \n",
              "                  count          sum  ...        sum         mean\n",
              "director                              ...                        \n",
              "Steven Spielberg     33  9256.621422  ...    62266.0  1886.848485\n",
              "Peter Jackson        13  6528.244659  ...    47571.0  3659.307692\n",
              "Michael Bay          13  6437.466781  ...    28767.0  2212.846154\n",
              "James Cameron        11  5900.610310  ...    33736.0  3066.909091\n",
              "David Yates           9  5334.563196  ...    31056.0  3450.666667\n",
              "Christopher Nolan    11  4747.408665  ...    67344.0  6122.181818\n",
              "Robert Zemeckis      19  4138.233542  ...    37666.0  1982.421053\n",
              "Tim Burton           21  4032.916124  ...    36922.0  1758.190476\n",
              "Ridley Scott         24  3917.529240  ...    43083.0  1795.125000\n",
              "Chris Columbus       15  3866.836869  ...    26413.0  1760.866667\n",
              "Roland Emmerich      16  3798.402596  ...    20085.0  1255.312500\n",
              "Ron Howard           26  3714.152341  ...    21345.0   820.961538\n",
              "J.J. Abrams           5  3579.215315  ...    21604.0  4320.800000\n",
              "Gore Verbinski       10  3575.339236  ...    25354.0  2535.400000\n",
              "George Lucas          7  3341.550893  ...    20190.0  2884.285714\n",
              "Sam Raimi            15  3193.788606  ...    21956.0  1463.733333\n",
              "Francis Lawrence      6  3183.341910  ...    24233.0  4038.833333\n",
              "Clint Eastwood       35  3100.675162  ...    24001.0   685.742857\n",
              "Bill Condon          10  3017.298095  ...    12416.0  1241.600000\n",
              "Joss Whedon           5  2963.831071  ...    20548.0  4109.600000\n",
              "\n",
              "[20 rows x 6 columns]"
            ]
          },
          "metadata": {
            "tags": []
          },
          "execution_count": 37
        }
      ]
    },
    {
      "cell_type": "code",
      "metadata": {
        "colab": {
          "base_uri": "https://localhost:8080/",
          "height": 645
        },
        "id": "EXxKM8HHXO-L",
        "outputId": "8789e64a-760a-4e46-9454-a29ed3879605"
      },
      "source": [
        "plt.figure(figsize = (12, 8))\n",
        "movie_df.groupby('director').revenue_musd.sum().nlargest(20).plot(kind='bar', fontsize = 15)\n",
        "plt.title(\"Most Active Directors\",fontsize = 20)\n",
        "plt.ylabel(\"Number of Movies\", fontsize = 15)\n",
        "plt.show()"
      ],
      "execution_count": null,
      "outputs": [
        {
          "output_type": "display_data",
          "data": {
            "image/png": "[encoded data removed]",
            "text/plain": [
              "<Figure size 864x576 with 1 Axes>"
            ]
          },
          "metadata": {
            "tags": [],
            "needs_background": "light"
          }
        }
      ]
    },
    {
      "cell_type": "code",
      "metadata": {
        "colab": {
          "base_uri": "https://localhost:8080/",
          "height": 731
        },
        "id": "qsz4WN79X4MC",
        "outputId": "5f81c7ce-6eb9-4bac-dcdd-f79656be5239"
      },
      "source": [
        "director_df.nlargest(20, [(\"vote_count\", \"sum\"), (\"vote_average\", \"mean\")])"
      ],
      "execution_count": null,
      "outputs": [
        {
          "output_type": "execute_result",
          "data": {
            "text/html": [
              "<div>\n",
              "<style scoped>\n",
              "    .dataframe tbody tr th:only-of-type {\n",
              "        vertical-align: middle;\n",
              "    }\n",
              "\n",
              "    .dataframe tbody tr th {\n",
              "        vertical-align: top;\n",
              "    }\n",
              "\n",
              "    .dataframe thead tr th {\n",
              "        text-align: left;\n",
              "    }\n",
              "\n",
              "    .dataframe thead tr:last-of-type th {\n",
              "        text-align: right;\n",
              "    }\n",
              "</style>\n",
              "<table border=\"1\" class=\"dataframe\">\n",
              "  <thead>\n",
              "    <tr>\n",
              "      <th></th>\n",
              "      <th>title</th>\n",
              "      <th colspan=\"2\" halign=\"left\">revenue_musd</th>\n",
              "      <th>vote_average</th>\n",
              "      <th colspan=\"2\" halign=\"left\">vote_count</th>\n",
              "    </tr>\n",
              "    <tr>\n",
              "      <th></th>\n",
              "      <th>count</th>\n",
              "      <th>sum</th>\n",
              "      <th>mean</th>\n",
              "      <th>mean</th>\n",
              "      <th>sum</th>\n",
              "      <th>mean</th>\n",
              "    </tr>\n",
              "    <tr>\n",
              "      <th>director</th>\n",
              "      <th></th>\n",
              "      <th></th>\n",
              "      <th></th>\n",
              "      <th></th>\n",
              "      <th></th>\n",
              "      <th></th>\n",
              "    </tr>\n",
              "  </thead>\n",
              "  <tbody>\n",
              "    <tr>\n",
              "      <th>Christopher Nolan</th>\n",
              "      <td>11</td>\n",
              "      <td>4747.408665</td>\n",
              "      <td>474.740866</td>\n",
              "      <td>7.618182</td>\n",
              "      <td>67344.0</td>\n",
              "      <td>6122.181818</td>\n",
              "    </tr>\n",
              "    <tr>\n",
              "      <th>Steven Spielberg</th>\n",
              "      <td>33</td>\n",
              "      <td>9256.621422</td>\n",
              "      <td>308.554047</td>\n",
              "      <td>6.893939</td>\n",
              "      <td>62266.0</td>\n",
              "      <td>1886.848485</td>\n",
              "    </tr>\n",
              "    <tr>\n",
              "      <th>Peter Jackson</th>\n",
              "      <td>13</td>\n",
              "      <td>6528.244659</td>\n",
              "      <td>593.476787</td>\n",
              "      <td>7.138462</td>\n",
              "      <td>47571.0</td>\n",
              "      <td>3659.307692</td>\n",
              "    </tr>\n",
              "    <tr>\n",
              "      <th>Quentin Tarantino</th>\n",
              "      <td>10</td>\n",
              "      <td>1526.668694</td>\n",
              "      <td>169.629855</td>\n",
              "      <td>7.490000</td>\n",
              "      <td>45910.0</td>\n",
              "      <td>4591.000000</td>\n",
              "    </tr>\n",
              "    <tr>\n",
              "      <th>Ridley Scott</th>\n",
              "      <td>24</td>\n",
              "      <td>3917.529240</td>\n",
              "      <td>170.327358</td>\n",
              "      <td>6.604167</td>\n",
              "      <td>43083.0</td>\n",
              "      <td>1795.125000</td>\n",
              "    </tr>\n",
              "    <tr>\n",
              "      <th>Robert Zemeckis</th>\n",
              "      <td>19</td>\n",
              "      <td>4138.233542</td>\n",
              "      <td>243.425502</td>\n",
              "      <td>6.794737</td>\n",
              "      <td>37666.0</td>\n",
              "      <td>1982.421053</td>\n",
              "    </tr>\n",
              "    <tr>\n",
              "      <th>David Fincher</th>\n",
              "      <td>10</td>\n",
              "      <td>2139.346325</td>\n",
              "      <td>213.934632</td>\n",
              "      <td>7.350000</td>\n",
              "      <td>37588.0</td>\n",
              "      <td>3758.800000</td>\n",
              "    </tr>\n",
              "    <tr>\n",
              "      <th>Tim Burton</th>\n",
              "      <td>21</td>\n",
              "      <td>4032.916124</td>\n",
              "      <td>224.050896</td>\n",
              "      <td>6.733333</td>\n",
              "      <td>36922.0</td>\n",
              "      <td>1758.190476</td>\n",
              "    </tr>\n",
              "    <tr>\n",
              "      <th>Martin Scorsese</th>\n",
              "      <td>39</td>\n",
              "      <td>1990.982842</td>\n",
              "      <td>104.788571</td>\n",
              "      <td>7.218421</td>\n",
              "      <td>35541.0</td>\n",
              "      <td>911.307692</td>\n",
              "    </tr>\n",
              "    <tr>\n",
              "      <th>James Cameron</th>\n",
              "      <td>11</td>\n",
              "      <td>5900.610310</td>\n",
              "      <td>737.576289</td>\n",
              "      <td>6.927273</td>\n",
              "      <td>33736.0</td>\n",
              "      <td>3066.909091</td>\n",
              "    </tr>\n",
              "    <tr>\n",
              "      <th>David Yates</th>\n",
              "      <td>9</td>\n",
              "      <td>5334.563196</td>\n",
              "      <td>889.093866</td>\n",
              "      <td>6.700000</td>\n",
              "      <td>31056.0</td>\n",
              "      <td>3450.666667</td>\n",
              "    </tr>\n",
              "    <tr>\n",
              "      <th>Michael Bay</th>\n",
              "      <td>13</td>\n",
              "      <td>6437.466781</td>\n",
              "      <td>495.189752</td>\n",
              "      <td>6.392308</td>\n",
              "      <td>28767.0</td>\n",
              "      <td>2212.846154</td>\n",
              "    </tr>\n",
              "    <tr>\n",
              "      <th>Bryan Singer</th>\n",
              "      <td>10</td>\n",
              "      <td>2808.235001</td>\n",
              "      <td>351.029375</td>\n",
              "      <td>6.490000</td>\n",
              "      <td>27493.0</td>\n",
              "      <td>2749.300000</td>\n",
              "    </tr>\n",
              "    <tr>\n",
              "      <th>Chris Columbus</th>\n",
              "      <td>15</td>\n",
              "      <td>3866.836869</td>\n",
              "      <td>297.448990</td>\n",
              "      <td>6.440000</td>\n",
              "      <td>26413.0</td>\n",
              "      <td>1760.866667</td>\n",
              "    </tr>\n",
              "    <tr>\n",
              "      <th>Gore Verbinski</th>\n",
              "      <td>10</td>\n",
              "      <td>3575.339236</td>\n",
              "      <td>357.533924</td>\n",
              "      <td>6.440000</td>\n",
              "      <td>25354.0</td>\n",
              "      <td>2535.400000</td>\n",
              "    </tr>\n",
              "    <tr>\n",
              "      <th>Zack Snyder</th>\n",
              "      <td>8</td>\n",
              "      <td>2476.197387</td>\n",
              "      <td>353.742484</td>\n",
              "      <td>6.600000</td>\n",
              "      <td>25069.0</td>\n",
              "      <td>3133.625000</td>\n",
              "    </tr>\n",
              "    <tr>\n",
              "      <th>Francis Lawrence</th>\n",
              "      <td>6</td>\n",
              "      <td>3183.341910</td>\n",
              "      <td>530.556985</td>\n",
              "      <td>6.800000</td>\n",
              "      <td>24233.0</td>\n",
              "      <td>4038.833333</td>\n",
              "    </tr>\n",
              "    <tr>\n",
              "      <th>Jon Favreau</th>\n",
              "      <td>8</td>\n",
              "      <td>2639.644492</td>\n",
              "      <td>329.955561</td>\n",
              "      <td>6.512500</td>\n",
              "      <td>24024.0</td>\n",
              "      <td>3003.000000</td>\n",
              "    </tr>\n",
              "    <tr>\n",
              "      <th>Clint Eastwood</th>\n",
              "      <td>35</td>\n",
              "      <td>3100.675162</td>\n",
              "      <td>106.919833</td>\n",
              "      <td>6.685714</td>\n",
              "      <td>24001.0</td>\n",
              "      <td>685.742857</td>\n",
              "    </tr>\n",
              "    <tr>\n",
              "      <th>Sam Raimi</th>\n",
              "      <td>15</td>\n",
              "      <td>3193.788606</td>\n",
              "      <td>319.378861</td>\n",
              "      <td>6.466667</td>\n",
              "      <td>21956.0</td>\n",
              "      <td>1463.733333</td>\n",
              "    </tr>\n",
              "  </tbody>\n",
              "</table>\n",
              "</div>"
            ],
            "text/plain": [
              "                  title revenue_musd  ... vote_count             \n",
              "                  count          sum  ...        sum         mean\n",
              "director                              ...                        \n",
              "Christopher Nolan    11  4747.408665  ...    67344.0  6122.181818\n",
              "Steven Spielberg     33  9256.621422  ...    62266.0  1886.848485\n",
              "Peter Jackson        13  6528.244659  ...    47571.0  3659.307692\n",
              "Quentin Tarantino    10  1526.668694  ...    45910.0  4591.000000\n",
              "Ridley Scott         24  3917.529240  ...    43083.0  1795.125000\n",
              "Robert Zemeckis      19  4138.233542  ...    37666.0  1982.421053\n",
              "David Fincher        10  2139.346325  ...    37588.0  3758.800000\n",
              "Tim Burton           21  4032.916124  ...    36922.0  1758.190476\n",
              "Martin Scorsese      39  1990.982842  ...    35541.0   911.307692\n",
              "James Cameron        11  5900.610310  ...    33736.0  3066.909091\n",
              "David Yates           9  5334.563196  ...    31056.0  3450.666667\n",
              "Michael Bay          13  6437.466781  ...    28767.0  2212.846154\n",
              "Bryan Singer         10  2808.235001  ...    27493.0  2749.300000\n",
              "Chris Columbus       15  3866.836869  ...    26413.0  1760.866667\n",
              "Gore Verbinski       10  3575.339236  ...    25354.0  2535.400000\n",
              "Zack Snyder           8  2476.197387  ...    25069.0  3133.625000\n",
              "Francis Lawrence      6  3183.341910  ...    24233.0  4038.833333\n",
              "Jon Favreau           8  2639.644492  ...    24024.0  3003.000000\n",
              "Clint Eastwood       35  3100.675162  ...    24001.0   685.742857\n",
              "Sam Raimi            15  3193.788606  ...    21956.0  1463.733333\n",
              "\n",
              "[20 rows x 6 columns]"
            ]
          },
          "metadata": {
            "tags": []
          },
          "execution_count": 39
        }
      ]
    }
  ]
}